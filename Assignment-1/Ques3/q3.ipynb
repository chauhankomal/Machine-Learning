{
 "cells": [
  {
   "cell_type": "markdown",
   "metadata": {},
   "source": [
    "## Question (3) Logistic Regression"
   ]
  },
  {
   "cell_type": "code",
   "execution_count": 1,
   "metadata": {},
   "outputs": [],
   "source": [
    "import seaborn as sb\n",
    "import matplotlib.pyplot as plt\n",
    "import matplotlib.animation as animation\n",
    "import numpy as np\n",
    "import pandas as pd\n",
    "from mpl_toolkits.mplot3d import Axes3D\n",
    "import threading\n",
    "import time\n",
    "from matplotlib import cm\n",
    "%matplotlib notebook\n",
    "\n",
    "with open('data/q3/logisticX.csv') as fp: \n",
    "    x=[]\n",
    "    for line in fp:\n",
    "        line=line[:-1]\n",
    "        [x1,x2]=line.split(',')\n",
    "        x.append(float(x1))\n",
    "        x.append(float(x2))\n",
    "\n",
    "with open('data/q3/logisticY.csv') as fp: \n",
    "    y=[]\n",
    "    for line in fp:\n",
    "        y.append(float(line[:-1]))\n",
    "\n",
    "\n",
    "X = np.array(x).reshape(100,2)\n",
    "Y = np.array(y).reshape(100,1)"
   ]
  },
  {
   "cell_type": "code",
   "execution_count": 2,
   "metadata": {},
   "outputs": [],
   "source": [
    "def normalization(X):\n",
    "    X_mean = np.mean(X)\n",
    "    X_var= np.sum((X-X_mean)**2)/len(X)\n",
    "    X_std_dev= np.sqrt(X_var)\n",
    "    X_norm = (X- X_mean)/X_std_dev\n",
    "    return X_norm\n",
    "\n",
    "X1= X[:,0:1]\n",
    "X2=X[:,1:2]\n",
    "\n",
    "X1_norm = normalization(X1)\n",
    "X2_norm= normalization(X2)\n",
    "\n",
    "X_norm = np.append(X1_norm, X2_norm, axis = 1)\n",
    "X_norm = np.append(np.ones((X1_norm.shape[0], 1)), X_norm,axis = 1)\n"
   ]
  },
  {
   "cell_type": "code",
   "execution_count": 3,
   "metadata": {},
   "outputs": [],
   "source": [
    "def sigma(V):\n",
    "    return np.array([1/(1+np.exp(-i)) for i in V])\n",
    "\n",
    "\n",
    "def gradient(V):\n",
    "    t= Y-(sigma(V).reshape(V.shape[0],1))\n",
    "    return np.dot(X_norm.transpose(), t)\n",
    "\n",
    "def Hessian(Th):\n",
    "#     t= np.dot(X_norm,theta)\n",
    "    temp=sigma(np.dot(X_norm,Th))\n",
    "    D= temp*(np.ones((temp.shape[0],1))-temp)\n",
    "    t=np.dot(X_norm.T,np.diag(-D[:,0]))\n",
    "    return (np.dot(t, X_norm))\n",
    "\n",
    "\n",
    "def grad_des(X_norm):\n",
    "    theta=np.zeros((3,1))\n",
    "    for i in range(7):\n",
    "        G = gradient(np.dot(X_norm,theta))\n",
    "        H=Hessian(theta)\n",
    "        H_inv= np.linalg.inv(H)\n",
    "        theta= theta - np.dot(H_inv, G)\n",
    "    return theta\n",
    "        \n",
    "def plot_data(X_norm, Y0, Y1, res):\n",
    "    x10= Y0[:,0:1]\n",
    "    x11=Y0[:,1:2]\n",
    "    x00= Y1[:,0:1]\n",
    "    x01=Y1[:,1:2]\n",
    "    sb.set()\n",
    "#     sb.set_style(\"ticks\")\n",
    "    fig, ax = plt.subplots(figsize=(8, 6), dpi= 80)\n",
    "    ax.scatter(x10,x11, marker=\"^\", color='green', label= \"1\")\n",
    "    ax.scatter(x00,x01, marker=\"P\", color='red', label =\"0\")\n",
    "    ax.legend()\n",
    "    plt.xlabel('x1')\n",
    "    plt.ylabel('x2')\n",
    "    plt.title('x-y')\n",
    "    Ydash = -(np.dot(X_norm[:,0:2],res[0:2,:]))/res[2][0]\n",
    "    plt.plot(X_norm[:,1:2],Ydash,color='black')\n",
    "    plt.show()\n",
    "        "
   ]
  },
  {
   "cell_type": "markdown",
   "metadata": {},
   "source": [
    "## (a) Parameters Learned\n",
    "\n",
    "$\\theta_0 = 0.40125316$ \\\n",
    "$\\theta_1 = 2.5885477$ \\\n",
    "$\\theta_2 = -2.72558849$\n"
   ]
  },
  {
   "cell_type": "code",
   "execution_count": 4,
   "metadata": {},
   "outputs": [
    {
     "name": "stdout",
     "output_type": "stream",
     "text": [
      "[[ 0.40125316]\n",
      " [ 2.5885477 ]\n",
      " [-2.72558849]]\n"
     ]
    }
   ],
   "source": [
    "res = grad_des(X_norm) \n",
    "print(res)\n",
    "Y0 =np.array([[X_norm[i][1],X_norm[i][2]]  for i in range(len(X_norm)) if Y[i]==0])\n",
    "Y1 =np.array([[X_norm[i][1],X_norm[i][2]]  for i in range(len(X_norm)) if Y[i]==1])"
   ]
  },
  {
   "cell_type": "markdown",
   "metadata": {},
   "source": [
    "## (b) Decision Boundary"
   ]
  },
  {
   "cell_type": "code",
   "execution_count": 5,
   "metadata": {},
   "outputs": [
    {
     "data": {
      "image/png": "[encoded data removed]",
      "text/plain": [
       "<Figure size 640x480 with 1 Axes>"
      ]
     },
     "metadata": {},
     "output_type": "display_data"
    }
   ],
   "source": [
    "plot_data(X_norm, Y0, Y1, res)"
   ]
  }
 ],
 "metadata": {
  "kernelspec": {
   "display_name": "Python 3",
   "language": "python",
   "name": "python3"
  },
  "language_info": {
   "codemirror_mode": {
    "name": "ipython",
    "version": 3
   },
   "file_extension": ".py",
   "mimetype": "text/x-python",
   "name": "python",
   "nbconvert_exporter": "python",
   "pygments_lexer": "ipython3",
   "version": "3.7.4"
  }
 },
 "nbformat": 4,
 "nbformat_minor": 2
}
