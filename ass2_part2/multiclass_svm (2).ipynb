{
 "cells": [
  {
   "cell_type": "code",
   "execution_count": 40,
   "metadata": {
    "colab": {},
    "colab_type": "code",
    "id": "UVGvTdTrHv3-"
   },
   "outputs": [
    {
     "data": {
      "text/html": [
       "<style>.container { width:100% !important; }</style>"
      ],
      "text/plain": [
       "<IPython.core.display.HTML object>"
      ]
     },
     "metadata": {},
     "output_type": "display_data"
    }
   ],
   "source": [
    "from IPython.core.display import display, HTML\n",
    "display(HTML(\"<style>.container { width:100% !important; }</style>\"))"
   ]
  },
  {
   "cell_type": "code",
   "execution_count": 2,
   "metadata": {
    "colab": {},
    "colab_type": "code",
    "id": "wgrsiGnED-7P"
   },
   "outputs": [],
   "source": [
    "import cvxopt\n",
    "import csv\n",
    "import pandas as pd\n",
    "import numpy as np\n",
    "import random\n",
    "from random import randint\n",
    "import time\n",
    "from tqdm import tqdm, tqdm_notebook\n",
    "import math\n",
    "import pickle\n",
    "from cvxopt import solvers\n",
    "from cvxopt import matrix\n",
    "from scipy.spatial.distance import pdist, cdist\n",
    "from sklearn.svm import SVC\n",
    "from tqdm import trange\n",
    "from sklearn.model_selection import StratifiedKFold\n",
    "from joblib import Parallel,delayed\n",
    "import emot"
   ]
  },
  {
   "cell_type": "code",
   "execution_count": 94,
   "metadata": {
    "colab": {},
    "colab_type": "code",
    "id": "-DnRO5uiD-7X"
   },
   "outputs": [],
   "source": [
    "train= pd.read_csv('fashion_mnist/train.csv',header=None).to_numpy()\n",
    "val= pd.read_csv('fashion_mnist/val.csv',header=None).to_numpy()\n",
    "test= pd.read_csv('fashion_mnist/test.csv',header=None).to_numpy()"
   ]
  },
  {
   "cell_type": "code",
   "execution_count": 95,
   "metadata": {
    "colab": {},
    "colab_type": "code",
    "id": "kLm0FBZxD-7c"
   },
   "outputs": [],
   "source": [
    "def load_train_data(a,b):\n",
    "    train_data = np.array([train[i,:] for i in range(train.shape[0]) if train[i,-1]== a or train[i,-1]==b ] )    \n",
    "    X = train_data[:, :-1]/255\n",
    "    m= X.shape[0]\n",
    "    Y1 = train_data[:,-1].reshape((m,1))\n",
    "    Y1[Y1==a] = -1\n",
    "    Y1[Y1==b] = 1\n",
    "    return X,Y1"
   ]
  },
  {
   "cell_type": "code",
   "execution_count": 96,
   "metadata": {
    "colab": {},
    "colab_type": "code",
    "id": "1g98ce6cD-7h"
   },
   "outputs": [],
   "source": [
    "def load_data():\n",
    "    X = train[:, :-1]/255\n",
    "    m= X.shape[0]\n",
    "    Y1 = train[:,-1].reshape((m,1))\n",
    "\n",
    "    X_val = val[:, :-1]/255\n",
    "    m_val= X_val.shape[0]\n",
    "    Y1_val = val[:,-1].reshape((m_val,1))\n",
    "\n",
    "    X_test = test[:, :-1]/255\n",
    "    m_test= X_test.shape[0]\n",
    "    Y1_test = test[:,-1].reshape((m_test,1))\n",
    "\n",
    "    return X_val, Y1_val, X_test, Y1_test, X,Y1"
   ]
  },
  {
   "cell_type": "markdown",
   "metadata": {
    "colab_type": "text",
    "id": "S1S7El17qNVn"
   },
   "source": []
  },
  {
   "cell_type": "code",
   "execution_count": null,
   "metadata": {
    "colab": {},
    "colab_type": "code",
    "id": "oIu-59QAD-7l"
   },
   "outputs": [],
   "source": [
    "def find_accuracy(y, y_pred):\n",
    "    correct =0  \n",
    "    for i in range(len(y)): \n",
    "        if y[i] == y_pred[i]:\n",
    "            correct +=1\n",
    "    return (correct/len(y)) *100"
   ]
  },
  {
   "cell_type": "code",
   "execution_count": null,
   "metadata": {
    "colab": {},
    "colab_type": "code",
    "id": "_ezkcTmYD-7q"
   },
   "outputs": [],
   "source": []
  },
  {
   "cell_type": "code",
   "execution_count": null,
   "metadata": {
    "colab": {},
    "colab_type": "code",
    "id": "qvbrjS4GD-7w"
   },
   "outputs": [],
   "source": [
    "def svm_gaussian(X,Y):\n",
    "    m= X.shape[0]\n",
    "    t =cdist(X,X,'euclidean')\n",
    "    K = np.exp((t**2) * (-0.05))\n",
    "    YY = Y@Y.T\n",
    "    P=matrix(np.multiply(K,YY))\n",
    "    q=matrix(np.ones([m,1])*-1)\n",
    "    I = np.identity(m)\n",
    "    I_neg = np.identity(m)*-1\n",
    "    G = matrix(np.concatenate([I,I_neg]))\n",
    "    A=matrix(Y.reshape((1,m)))\n",
    "    b = matrix([0], tc='d')\n",
    "    Y=Y.reshape(m)\n",
    "    h = matrix(np.concatenate((np.ones([m,1]),np.zeros([m,1]))))  \n",
    "    solvers.options['show_progress'] = False\n",
    "    sol = solvers.qp(P,q,G,h,A,b)\n",
    "    alpha=np.array(sol['x'])   \n",
    "    SV_i =[i for i in range(len(alpha)) if alpha[i] >=1e-6]\n",
    "    alpha1= np.array([alpha[i] for i in SV_i])\n",
    "    SV_X = np.array([X[i] for i in SV_i])\n",
    "    SV_Y = np.array([Y[i] for i in SV_i]).reshape((SV_X.shape[0],1))   \n",
    "    X_pos= np.array([X[i] for i in range(len(Y)) if Y[i]==1.0])\n",
    "    X_neg= np.array([X[i] for i in range(len(Y)) if Y[i]==-1.0])\n",
    "    print(X_neg.shape)\n",
    "    t_neg= cdist(SV_X,X_neg,'euclidean')\n",
    "    K_neg= np.exp((t_neg**2) * (-0.05))\n",
    "    t_pos= cdist(SV_X,X_pos,'euclidean')\n",
    "    K_pos= np.exp((t_pos**2) * (-0.05))\n",
    "    X_neg_k =np.dot(K_neg.T,(SV_Y*alpha1))\n",
    "    X_pos_k =np.dot(K_pos.T,(SV_Y*alpha1))\n",
    "    b = -(X_neg_k.max()+X_pos_k.min())/2\n",
    "    print(alpha1.shape,SV_X.shape,X_pos.shape, X_neg.shape,  X_neg_k.shape)\n",
    "    return [alpha1,b,SV_X, SV_Y]"
   ]
  },
  {
   "cell_type": "code",
   "execution_count": null,
   "metadata": {
    "colab": {},
    "colab_type": "code",
    "id": "FGR48_Z9D-75"
   },
   "outputs": [],
   "source": [
    "# X,Y=load_train_data(0,3)\n",
    "# svm_gaussian(X,Y)"
   ]
  },
  {
   "cell_type": "code",
   "execution_count": null,
   "metadata": {
    "colab": {},
    "colab_type": "code",
    "id": "D8bf5caHD-7-"
   },
   "outputs": [],
   "source": [
    "classes = list(range(10))"
   ]
  },
  {
   "cell_type": "code",
   "execution_count": null,
   "metadata": {
    "colab": {},
    "colab_type": "code",
    "id": "UMUQ7dtkD-8C"
   },
   "outputs": [],
   "source": [
    "# l_model=[]\n",
    "# for i in trange(10):\n",
    "#     for j in trange(i+1, 10):\n",
    "#         X,Y=load_train_data(classes[i],classes[j])\n",
    "#         print(classes[i],classes[j])\n",
    "#         model= svm_gaussian(X,Y)\n",
    "#         l_model.append(model)"
   ]
  },
  {
   "cell_type": "code",
   "execution_count": null,
   "metadata": {
    "colab": {},
    "colab_type": "code",
    "id": "90dAnDycD-8G"
   },
   "outputs": [],
   "source": [
    "# models_pickle = open(\"/content/drive/My Drive/Colab Notebooks/ML/ass2_part2/models_pickle\",'wb')\n",
    "# pickle.dump(l_model, models_pickle)\n"
   ]
  },
  {
   "cell_type": "code",
   "execution_count": null,
   "metadata": {
    "colab": {},
    "colab_type": "code",
    "id": "_nLQdRPjh66N"
   },
   "outputs": [],
   "source": [
    "file= open(\"/content/drive/My Drive/Colab Notebooks/ML/ass2_part2/models_pickle\",'rb')\n",
    "models = pickle.load(file)\n",
    "file.close()\n",
    "count =0\n",
    "for i in range(10):\n",
    "    for j in range(i+1, 10):\n",
    "        models[count].append(i)\n",
    "        models[count].append(j)\n",
    "        count+=1\n",
    "models = np.array(models)"
   ]
  },
  {
   "cell_type": "markdown",
   "metadata": {
    "colab_type": "text",
    "id": "3MFc6C5h4pGK"
   },
   "source": []
  },
  {
   "cell_type": "code",
   "execution_count": null,
   "metadata": {
    "colab": {},
    "colab_type": "code",
    "id": "op3v5kwntJvc"
   },
   "outputs": [],
   "source": [
    "# class_pred=[]\n",
    "# dict={}\n",
    "# for i in range(10):\n",
    "#     dict[i]= 0 \n",
    "# for i in range(45):\n",
    "#   class_pred.append(dict)\n",
    "# class_pred[0][9]"
   ]
  },
  {
   "cell_type": "code",
   "execution_count": null,
   "metadata": {
    "colab": {},
    "colab_type": "code",
    "id": "sbk1ime_U297"
   },
   "outputs": [],
   "source": [
    "def find_max_class(dict):\n",
    "    max =0\n",
    "    max_key=-1\n",
    "    for key in dict:\n",
    "        if(dict[key][0]>max):\n",
    "        max = dict[key][0]\n",
    "        max_key=key\n",
    "    elif (dict[key][0]==max):\n",
    "        if(dict[key][1]>dict[max_key][1]):\n",
    "        max_key = key\n",
    "    return max_key"
   ]
  },
  {
   "cell_type": "code",
   "execution_count": null,
   "metadata": {
    "colab": {},
    "colab_type": "code",
    "id": "voTtj7GvD-8K"
   },
   "outputs": [],
   "source": [
    "def predict_gaussian(X):\n",
    "    count=0;\n",
    "    print(X.shape) \n",
    "    class_pred=[]\n",
    "    for i in range(X.shape[0]):\n",
    "    dict={}\n",
    "    for i in range(10):\n",
    "        dict[i]= [0,0] \n",
    "    class_pred.append(dict)\n",
    "    for i in trange(45):\n",
    "    [alpha,b,SV_X, SV_Y,p,q]=models[i]\n",
    "    print(p,q)\n",
    "    t= cdist(SV_X,X,'euclidean')\n",
    "    K= np.exp((t**2) * (-0.05))\n",
    "    pred = np.dot(K.T,(SV_Y*alpha))+b\n",
    "    pred= pred.tolist()\n",
    "    Y_pred =[]\n",
    "    for j in range(len(pred)) :\n",
    "        if pred[j][0] >0:         \n",
    "            class_pred[j][q][0]+=1\n",
    "              class_pred[j][q][1]+=pred[j][0]\n",
    "        else :\n",
    "            class_pred[j][p][0]+=1\n",
    "            class_pred[j][p][1]+=abs(pred[j][0])\n",
    "    for i in range(X.shape[0]):\n",
    "        Y_pred.append(find_max_class(class_pred[i])) \n",
    "    print(class_pred[0])\n",
    "    print(class_pred[2])\n",
    "    return Y_pred"
   ]
  },
  {
   "cell_type": "code",
   "execution_count": 63,
   "metadata": {},
   "outputs": [],
   "source": [
    "# def print_confusion_martix(Y_actual, Y_pred):\n",
    "#     m = np.zeros((Y_actual.shape[0], Y_pred.shape[0]))\n",
    "#     forY_actualalalrange(len(Y_actual)):\n",
    "#         m[Y_actual][Y_pred]+=1\n",
    "#     return m"
   ]
  },
  {
   "cell_type": "code",
   "execution_count": 100,
   "metadata": {
    "colab": {
     "base_uri": "https://localhost:8080/",
     "height": 34
    },
    "colab_type": "code",
    "id": "vJCc_RxQnq85",
    "outputId": "94576e72-8fe8-4b55-b894-2ed115f7b82e"
   },
   "outputs": [
    {
     "name": "stdout",
     "output_type": "stream",
     "text": [
      "(22500, 784)\n"
     ]
    }
   ],
   "source": [
    "X_val, Y_val, X_test, Y_test, X_train, Y_train=load_data()\n",
    "print(X_train.shape)"
   ]
  },
  {
   "cell_type": "code",
   "execution_count": null,
   "metadata": {
    "colab": {
     "base_uri": "https://localhost:8080/",
     "height": 887
    },
    "colab_type": "code",
    "id": "_0jkyHYXp928",
    "outputId": "0e130a73-5b15-4eb1-f559-8e82b967ad6e"
   },
   "outputs": [],
   "source": [
    "pred=predict_gaussian(X_val)"
   ]
  },
  {
   "cell_type": "markdown",
   "metadata": {
    "colab_type": "text",
    "id": "1Af7WyFPGUA2"
   },
   "source": [
    "# accuracy on validation -  84.96\n",
    " "
   ]
  },
  {
   "cell_type": "code",
   "execution_count": null,
   "metadata": {
    "colab": {
     "base_uri": "https://localhost:8080/",
     "height": 34
    },
    "colab_type": "code",
    "id": "zYvJv9lKWSlc",
    "outputId": "d6a4e788-ea3d-4d1c-de69-469062334b9e"
   },
   "outputs": [],
   "source": [
    "find_accuracy(Y_val, pred)"
   ]
  },
  {
   "cell_type": "code",
   "execution_count": null,
   "metadata": {
    "colab": {
     "base_uri": "https://localhost:8080/",
     "height": 887
    },
    "colab_type": "code",
    "id": "Vt85qpNUgCB1",
    "outputId": "b9dc3fa5-65c0-4506-8c60-21f2d55036e0"
   },
   "outputs": [],
   "source": [
    "pred_test=predict_gaussian(X_test)"
   ]
  },
  {
   "cell_type": "markdown",
   "metadata": {
    "colab_type": "text",
    "id": "jqL6H3bKGMAr"
   },
   "source": [
    "#accuracy on test data- 85.08"
   ]
  },
  {
   "cell_type": "code",
   "execution_count": null,
   "metadata": {
    "colab": {
     "base_uri": "https://localhost:8080/",
     "height": 34
    },
    "colab_type": "code",
    "id": "hPceJtMxhX-v",
    "outputId": "a767dcd5-8706-4803-87e6-d400639e70cb"
   },
   "outputs": [],
   "source": [
    "find_accuracy(Y_test, pred_test)"
   ]
  },
  {
   "cell_type": "code",
   "execution_count": null,
   "metadata": {
    "colab": {
     "base_uri": "https://localhost:8080/",
     "height": 887
    },
    "colab_type": "code",
    "id": "pm04WGQ8RQFV",
    "outputId": "13809600-3e31-4beb-ff34-c6c5df75c8b8"
   },
   "outputs": [],
   "source": [
    "pred_train=predict_gaussian(X_train)"
   ]
  },
  {
   "cell_type": "markdown",
   "metadata": {
    "colab_type": "text",
    "id": "g5uZ6HsfI8Rg"
   },
   "source": [
    "# Accuracy on train data = 96.52"
   ]
  },
  {
   "cell_type": "code",
   "execution_count": null,
   "metadata": {
    "colab": {
     "base_uri": "https://localhost:8080/",
     "height": 34
    },
    "colab_type": "code",
    "id": "ABDiISJKqhKw",
    "outputId": "c9cf4edc-2bfc-41dc-82d1-d26e157870dd"
   },
   "outputs": [],
   "source": [
    "find_accuracy(Y_train, pred_train)"
   ]
  },
  {
   "cell_type": "markdown",
   "metadata": {
    "colab_type": "text",
    "id": "U_QefAlOJ9JJ"
   },
   "source": [
    "# 2(b) Using  Scikit learn"
   ]
  },
  {
   "cell_type": "code",
   "execution_count": null,
   "metadata": {
    "colab": {
     "base_uri": "https://localhost:8080/",
     "height": 425
    },
    "colab_type": "code",
    "id": "9Z2Tx3h2q_xb",
    "outputId": "ac2acff4-8813-4065-b80f-3216a2dadc7c"
   },
   "outputs": [],
   "source": [
    "skl_model=[]\n",
    "for i in trange(10):\n",
    "    for j in trange(i+1, 10):\n",
    "        X,Y=load_train_data(classes[i],classes[j])\n",
    "        print(classes[i],classes[j])\n",
    "        svc = SVC(kernel='rbf', gamma=0.05, C=1)\n",
    "        svc.fit(X, np.ravel(Y ,order = 'C'))\n",
    "        skl_model.append(svc)"
   ]
  },
  {
   "cell_type": "code",
   "execution_count": null,
   "metadata": {
    "colab": {},
    "colab_type": "code",
    "id": "B3XFlSfG7FKq"
   },
   "outputs": [],
   "source": [
    "# models_pickle_svc = open(\"/content/drive/My Drive/Colab Notebooks/ML/ass2_part2/models_pickle_svc\",'wb')\n",
    "# pickle.dump(skl_model, models_pickle_svc)"
   ]
  },
  {
   "cell_type": "code",
   "execution_count": null,
   "metadata": {
    "colab": {},
    "colab_type": "code",
    "id": "3HIPdMPLTNHr"
   },
   "outputs": [],
   "source": [
    "# file1= open(\"/content/drive/My Drive/Colab Notebooks/ML/ass2_part2/models_pickle_svc\",'rb')\n",
    "# models_svc = pickle.load(file1)"
   ]
  },
  {
   "cell_type": "code",
   "execution_count": null,
   "metadata": {
    "colab": {
     "base_uri": "https://localhost:8080/",
     "height": 34
    },
    "colab_type": "code",
    "id": "qLiWt3jcLxhP",
    "outputId": "19aa728b-28b8-4cff-c9e6-33dc3d9bedad"
   },
   "outputs": [],
   "source": [
    "file= open(\"/content/drive/My Drive/Colab Notebooks/ML/ass2_part2/models_pickle_svc\",'rb')\n",
    "models = pickle.load(file)\n",
    "print(type(models))\n",
    "file.close()\n",
    "classes=[]\n",
    "count =0\n",
    "for i in range(10):\n",
    "    for j in range(i+1, 10):\n",
    "        classes.append((i,j))\n",
    "models = np.array(models)"
   ]
  },
  {
   "cell_type": "code",
   "execution_count": null,
   "metadata": {
    "colab": {},
    "colab_type": "code",
    "id": "sy8uosdQrKKW"
   },
   "outputs": [],
   "source": [
    "def predict_gaussian_svm(X):\n",
    "    count=0;\n",
    "    print(X.shape) \n",
    "    class_pred=[]\n",
    "    Y_pred_class=[]\n",
    "    for i in range(X.shape[0]):\n",
    "    dict={}\n",
    "    for i in range(10):\n",
    "        dict[i]= [0,0] \n",
    "    class_pred.append(dict)\n",
    "    for i in trange(45):\n",
    "        (p,q)=classes[i]\n",
    "        modeli=models[i]\n",
    "        Y_pred = modeli.predict(X)\n",
    "        Y_scores= modeli.decision_function(X)\n",
    "        for j in range(len(Y_pred)) :\n",
    "            if Y_pred[j] ==1:         \n",
    "                class_pred[j][q][0]+=1\n",
    "                class_pred[j][q][1]+=Y_scores[i]\n",
    "            elif Y_pred[j] ==-1:\n",
    "                class_pred[j][p][0]+=1\n",
    "                class_pred[j][p][1]+=abs(Y_scores[i])\n",
    "    for i in range(X.shape[0]):\n",
    "        Y_pred_class.append(find_max_class(class_pred[i])) \n",
    "    print(class_pred[0])\n",
    "    print(class_pred[2])\n",
    "    return Y_pred_class"
   ]
  },
  {
   "cell_type": "code",
   "execution_count": null,
   "metadata": {
    "colab": {
     "base_uri": "https://localhost:8080/",
     "height": 1000
    },
    "colab_type": "code",
    "id": "uZQA89P5L9vN",
    "outputId": "2a0a77c1-5a74-4da5-be47-16da390c4761"
   },
   "outputs": [],
   "source": [
    "pred=predict_gaussian_svm(X_val)\n",
    "find_accuracy(Y_val, pred)"
   ]
  },
  {
   "cell_type": "code",
   "execution_count": null,
   "metadata": {
    "colab": {
     "base_uri": "https://localhost:8080/",
     "height": 34
    },
    "colab_type": "code",
    "id": "6xB_vEYINKY4",
    "outputId": "9ad2d86e-e2a7-486e-ef78-8953f86188ef"
   },
   "outputs": [],
   "source": [
    "find_accuracy(Y_val, pred)"
   ]
  },
  {
   "cell_type": "code",
   "execution_count": null,
   "metadata": {
    "colab": {
     "base_uri": "https://localhost:8080/",
     "height": 1000
    },
    "colab_type": "code",
    "id": "LuCJtypsk4Wc",
    "outputId": "a9b64831-02bc-4453-c94c-77ae39999af2"
   },
   "outputs": [],
   "source": [
    "pred=predict_gaussian_svm(X_test)\n",
    "find_accuracy(Y_test, pred)"
   ]
  },
  {
   "cell_type": "code",
   "execution_count": null,
   "metadata": {
    "colab": {
     "base_uri": "https://localhost:8080/",
     "height": 1000
    },
    "colab_type": "code",
    "id": "hfqtoJNWk5tV",
    "outputId": "36683fcb-91fe-4dfc-a24f-0f27624b5e7e"
   },
   "outputs": [],
   "source": [
    "pred=predict_gaussian_svm(X_train)\n",
    "find_accuracy(Y_train, pred)"
   ]
  },
  {
   "cell_type": "markdown",
   "metadata": {
    "colab": {},
    "colab_type": "code",
    "id": "iw8OUaNFxzRo"
   },
   "source": [
    "## d) 5-fold cross validation "
   ]
  },
  {
   "cell_type": "code",
   "execution_count": 82,
   "metadata": {
    "scrolled": true
   },
   "outputs": [
    {
     "name": "stdout",
     "output_type": "stream",
     "text": [
      "(22500, 784) (22500,)\n"
     ]
    }
   ],
   "source": [
    "X = train[:,:-1]/255 \n",
    "Y = train[:, -1]\n",
    "print(X.shape, Y.shape)\n",
    "k=5\n",
    "models=[]\n",
    "C_values = [1e-5,1e-3,1, 5 ,10]\n",
    "skf = StratifiedKFold(n_splits=k)\n",
    "skf.get_n_splits(X, Y)"
   ]
  },
  {
   "cell_type": "code",
   "execution_count": 84,
   "metadata": {},
   "outputs": [],
   "source": [
    "def train_svc_multiclass(i):\n",
    "    count=0\n",
    "    avg_acc=0\n",
    "    for train_index, test_index in skf.split(X, Y):\n",
    "        count+=1\n",
    "        X_train, X_test = X[train_index], X[test_index]\n",
    "        Y_train, Y_test = Y[train_index], Y[test_index]  \n",
    "        svc = SVC(kernel='rbf', gamma=0.05, C=i, decision_function_shape='ovo')\n",
    "        svc.fit(X_train, Y_train.ravel())\n",
    "        print('done')\n",
    "        models.append([svc,i,count])\n",
    "        score= svc.score(X_test, Y_test)\n",
    "        avg_acc = avg_acc+ score\n",
    "        print(score, i,count)\n",
    "    return avg_acc/k"
   ]
  },
  {
   "cell_type": "code",
   "execution_count": 85,
   "metadata": {},
   "outputs": [
    {
     "name": "stdout",
     "output_type": "stream",
     "text": [
      "4120.884063959122\n"
     ]
    }
   ],
   "source": [
    "s = time.time()\n",
    "accuracy_on_c=Parallel(n_jobs=5)(delayed(train_svc_multiclass)(i) for i in C_values )\n",
    "print(time.time()-s)"
   ]
  },
  {
   "cell_type": "markdown",
   "metadata": {},
   "source": [
    "k fold accuracy [0.5664444444444444, 0.5664444444444444, 0.8787111111111111, 0.8844, 0.8842666666666666]"
   ]
  },
  {
   "cell_type": "code",
   "execution_count": 86,
   "metadata": {},
   "outputs": [
    {
     "name": "stdout",
     "output_type": "stream",
     "text": [
      "[0.5664444444444444, 0.5664444444444444, 0.8787111111111111, 0.8844, 0.8842666666666666]\n"
     ]
    }
   ],
   "source": [
    "print(accuracy_on_c)\n",
    "k_fold_acc = open('k_fold_acc','wb')\n",
    "pickle.dump(accuracy_on_c, k_fold_acc)"
   ]
  },
  {
   "cell_type": "code",
   "execution_count": 103,
   "metadata": {},
   "outputs": [],
   "source": [
    "test_accuracy=[]\n",
    "C_values = [1e-5,1e-3,1, 5 ,10]\n",
    "for i in C_values:\n",
    "    svc = SVC(kernel='rbf', gamma=0.05, C=i, decision_function_shape='ovo')\n",
    "    svc.fit(X, Y.ravel())\n",
    "    test_accuracy.append(svc.score(X_test, Y_test))"
   ]
  },
  {
   "cell_type": "markdown",
   "metadata": {},
   "source": [
    "test accuracy [0.5736, 0.5736, 0.8808, 0.8828, 0.8824]"
   ]
  },
  {
   "cell_type": "code",
   "execution_count": 104,
   "metadata": {},
   "outputs": [
    {
     "data": {
      "text/plain": [
       "[0.5736, 0.5736, 0.8808, 0.8828, 0.8824]"
      ]
     },
     "execution_count": 104,
     "metadata": {},
     "output_type": "execute_result"
    }
   ],
   "source": [
    "test_accuracy"
   ]
  },
  {
   "cell_type": "code",
   "execution_count": null,
   "metadata": {},
   "outputs": [],
   "source": []
  }
 ],
 "metadata": {
  "accelerator": "TPU",
  "colab": {
   "collapsed_sections": [],
   "machine_shape": "hm",
   "name": "multiclass_svm.ipynb",
   "provenance": []
  },
  "kernelspec": {
   "display_name": "Python 3",
   "language": "python",
   "name": "python3"
  },
  "language_info": {
   "codemirror_mode": {
    "name": "ipython",
    "version": 3
   },
   "file_extension": ".py",
   "mimetype": "text/x-python",
   "name": "python",
   "nbconvert_exporter": "python",
   "pygments_lexer": "ipython3",
   "version": "3.7.4"
  }
 },
 "nbformat": 4,
 "nbformat_minor": 1
}
