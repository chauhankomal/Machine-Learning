{
 "cells": [
  {
   "cell_type": "code",
   "execution_count": 1,
   "metadata": {},
   "outputs": [
    {
     "data": {
      "text/html": [
       "<style>.container { width:100% !important; }</style>"
      ],
      "text/plain": [
       "<IPython.core.display.HTML object>"
      ]
     },
     "metadata": {},
     "output_type": "display_data"
    }
   ],
   "source": [
    "from IPython.core.display import display, HTML\n",
    "display(HTML(\"<style>.container { width:100% !important; }</style>\"))"
   ]
  },
  {
   "cell_type": "code",
   "execution_count": 2,
   "metadata": {},
   "outputs": [],
   "source": [
    "import cvxopt\n",
    "import csv\n",
    "import pandas as pd\n",
    "import numpy as np\n",
    "from random import randint\n",
    "import time\n",
    "from tqdm import tqdm, tqdm_notebook\n",
    "import math\n",
    "import pickle\n",
    "from cvxopt import solvers\n",
    "from cvxopt import matrix\n",
    "from scipy.spatial.distance import pdist, cdist\n",
    "from sklearn.svm import SVC"
   ]
  },
  {
   "cell_type": "code",
   "execution_count": 3,
   "metadata": {},
   "outputs": [],
   "source": [
    "train= pd.read_csv('fashion_mnist/train.csv',header=None).to_numpy()\n",
    "val= pd.read_csv('fashion_mnist/val.csv',header=None).to_numpy()\n",
    "test= pd.read_csv('fashion_mnist/test.csv',header=None).to_numpy()"
   ]
  },
  {
   "cell_type": "code",
   "execution_count": 4,
   "metadata": {},
   "outputs": [],
   "source": [
    "def load_data(a,b):\n",
    "    train_data = np.array([train[i,:] for i in range(train.shape[0]) if train[i,-1]== a or train[i,-1]==b ] )\n",
    "    val_data = np.array([val[i,:] for i in range(val.shape[0]) if val[i,-1]==a or val[i,-1]==b ] )\n",
    "    test_data = np.array([test[i,:] for i in range(test.shape[0]) if test[i,-1]==a or test[i,-1]==b ] )\n",
    "    \n",
    "    X_val = val_data[:, :-1]/255\n",
    "    m_val= X_val.shape[0]\n",
    "    Y1_val = val_data[:,-1].reshape((m_val,1))\n",
    "    Y1_val[Y1_val==a] = -1\n",
    "    Y1_val[Y1_val==b] = 1\n",
    "    \n",
    "    X_test = test_data[:, :-1]/255\n",
    "    m_test= X_test.shape[0]\n",
    "    Y1_test = test_data[:,-1].reshape((m_test,1))\n",
    "    Y1_test[Y1_test==a] = -1\n",
    "    Y1_test[Y1_test==b] = 1\n",
    "    \n",
    "    X = train_data[:, :-1]/255\n",
    "    m= X.shape[0]\n",
    "    Y1 = train_data[:,-1].reshape((m,1))\n",
    "    Y1[Y1==a] = -1\n",
    "    Y1[Y1==b] = 1\n",
    "    \n",
    "    return X,Y1,X_val, Y1_val, X_test, Y1_test"
   ]
  },
  {
   "cell_type": "code",
   "execution_count": 5,
   "metadata": {},
   "outputs": [],
   "source": [
    "def svm(X,Y,c):\n",
    "    m= X.shape[0]\n",
    "    XX = np.dot(X, X.T)\n",
    "    YY = Y@Y.T\n",
    "    P=matrix(np.multiply(XX,YY))\n",
    "    q=matrix(np.ones([m,1])*-1)\n",
    "    I = np.identity(m)\n",
    "    I_neg = np.identity(m)*-1\n",
    "    G = matrix(np.concatenate([I,I_neg]))\n",
    "    A=matrix(Y.reshape((1,m)))\n",
    "    b = matrix([0], tc='d')\n",
    "    Y=Y.reshape(m)\n",
    "    h = matrix(np.concatenate((np.ones([m,1])*C,np.zeros([m,1]))))  \n",
    "    solvers.options['show_progress'] = False\n",
    "    sol = solvers.qp(P,q,G,h,A,b)\n",
    "    alpha=np.array(sol['x'])\n",
    "    SV_i =[i for i in range(len(alpha)) if alpha[i] >=1e-5]\n",
    "    alpha1= np.array([alpha[i] for i in SV_i])\n",
    "    X1 = np.array([X[i] for i in SV_i])    \n",
    "    Y1 = np.array([Y[i] for i in SV_i]).reshape((X1.shape[0],1))\n",
    "    w =np.dot(X1.T, (alpha1*Y1))\n",
    "    X_pos= [X[i] for i in range(len(Y)) if Y[i]==1]\n",
    "    X_neg= [X[i] for i in range(len(Y)) if Y[i]==-1]\n",
    "    temp1 = np.dot(X_pos, w)\n",
    "    temp2 = np.dot(X_neg, w)\n",
    "    b = -(temp1.min()+temp2.max())/2\n",
    "    return w,b,len(SV_i)"
   ]
  },
  {
   "cell_type": "code",
   "execution_count": 6,
   "metadata": {},
   "outputs": [],
   "source": [
    "def find_accuracy(y, y_pred):\n",
    "    correct =0\n",
    "    \n",
    "    for i in range(len(y)): \n",
    "        if y[i] == y_pred[i]:\n",
    "            correct +=1\n",
    "    return (correct/len(y)) *100"
   ]
  },
  {
   "cell_type": "code",
   "execution_count": 7,
   "metadata": {},
   "outputs": [],
   "source": [
    "def predict(w, b, X):\n",
    "    pred = np.dot(X,w)+b\n",
    "    Y_pred =[]\n",
    "    for i in pred :\n",
    "        if i >=0:\n",
    "            Y_pred.append(1)\n",
    "        else :\n",
    "            Y_pred.append(-1)\n",
    "    return Y_pred"
   ]
  },
  {
   "cell_type": "code",
   "execution_count": 9,
   "metadata": {},
   "outputs": [
    {
     "name": "stdout",
     "output_type": "stream",
     "text": [
      "No of support Vectors - 73\n",
      "b  0.49689151574843526\n",
      "Time taken in svm using linear kernel  108.57612347602844\n"
     ]
    }
   ],
   "source": [
    "X,Y,X_val, Y_val, X_test, Y_test= load_data(4,5)\n",
    "s = time.time()\n",
    "C = 1.0\n",
    "w, b, nSV = svm(X, Y,C)\n",
    "print(\"No of support Vectors -\", nSV)\n",
    "print(\"b \", b)\n",
    "print('Time taken in svm using linear kernel ', time.time()-s)"
   ]
  },
  {
   "cell_type": "code",
   "execution_count": 10,
   "metadata": {},
   "outputs": [
    {
     "name": "stdout",
     "output_type": "stream",
     "text": [
      "Accuracy on Training data - 100.0\n"
     ]
    }
   ],
   "source": [
    "Y_pred= predict(w,b,X)\n",
    "accuracy = find_accuracy(Y, Y_pred)\n",
    "print('Accuracy on Training data -',accuracy)"
   ]
  },
  {
   "cell_type": "code",
   "execution_count": 11,
   "metadata": {},
   "outputs": [
    {
     "name": "stdout",
     "output_type": "stream",
     "text": [
      "Accuracy on validation set  - 99.6\n"
     ]
    }
   ],
   "source": [
    "Y_pred_val = predict(w,b,X_val)\n",
    "accuracy = find_accuracy(Y_val, Y_pred_val)\n",
    "print('Accuracy on validation set  -',accuracy)\n"
   ]
  },
  {
   "cell_type": "code",
   "execution_count": 12,
   "metadata": {},
   "outputs": [
    {
     "name": "stdout",
     "output_type": "stream",
     "text": [
      "Accuracy on test data  - 99.8\n"
     ]
    }
   ],
   "source": [
    "Y_pred_test = predict(w,b,X_test)\n",
    "accuracy = find_accuracy(Y_test, Y_pred_test)\n",
    "print('Accuracy on test data  -',accuracy)"
   ]
  },
  {
   "cell_type": "markdown",
   "metadata": {},
   "source": [
    "## 1(b) SVM Using Gaussian Kernel"
   ]
  },
  {
   "cell_type": "code",
   "execution_count": 13,
   "metadata": {},
   "outputs": [],
   "source": [
    "def svm_gaussian(X,Y,C, gamma):\n",
    "    m= X.shape[0]\n",
    "    t =cdist(X,X,'euclidean')\n",
    "    K = np.exp((t**2) * -gamma)\n",
    "    YY = Y@Y.T\n",
    "    P=matrix(np.multiply(K,YY))\n",
    "    q=matrix(np.ones([m,1])*-1)\n",
    "    I = np.identity(m)\n",
    "    I_neg = np.identity(m)*-1\n",
    "    G = matrix(np.concatenate([I,I_neg]))\n",
    "    A=matrix(Y.reshape((1,m)))\n",
    "    b = matrix([0], tc='d')\n",
    "    Y=Y.reshape(m)\n",
    "    h = matrix(np.concatenate((np.ones([m,1])*C,np.zeros([m,1]))))  \n",
    "    sol = solvers.qp(P,q,G,h,A,b)\n",
    "    alpha=np.array(sol['x'])   \n",
    "    SV_i =[i for i in range(len(alpha)) if alpha[i] >=1e-4]\n",
    "    alpha1= np.array([alpha[i] for i in SV_i])\n",
    "    SV_X = np.array([X[i] for i in SV_i])\n",
    "    SV_Y = np.array([Y[i] for i in SV_i]).reshape((SV_X.shape[0],1))   \n",
    "    X_pos= np.array([X[i] for i in range(len(Y)) if Y[i]==1])\n",
    "    X_neg= np.array([X[i] for i in range(len(Y)) if Y[i]==-1])\n",
    "    t_neg= cdist(SV_X,X_neg,'euclidean')\n",
    "    K_neg= np.exp((t_neg**2) * (-0.05))\n",
    "    t_pos= cdist(SV_X,X_pos,'euclidean')\n",
    "    K_pos= np.exp((t_pos**2) * (-0.05))\n",
    "    X_neg_k =np.dot(K_neg.T,(SV_Y*alpha1))\n",
    "    X_pos_k =np.dot(K_pos.T,(SV_Y*alpha1))\n",
    "    b = -(X_neg_k.max()+X_pos_k.min())/2\n",
    "    return alpha1,b,SV_X, SV_Y"
   ]
  },
  {
   "cell_type": "code",
   "execution_count": 14,
   "metadata": {},
   "outputs": [],
   "source": [
    "def predict_gaussian(alpha,b,SV_X, SV_Y,X):\n",
    "    t= cdist(SV_X,X,'euclidean')\n",
    "    K= np.exp((t**2) * (-0.05))\n",
    "    pred = np.dot(K.T,(SV_Y*alpha))+b\n",
    "    Y_pred =[]\n",
    "    for i in pred :\n",
    "        if i >0:\n",
    "            Y_pred.append(1)\n",
    "        else :\n",
    "            Y_pred.append(-1)\n",
    "    return Y_pred"
   ]
  },
  {
   "cell_type": "code",
   "execution_count": 15,
   "metadata": {},
   "outputs": [
    {
     "name": "stdout",
     "output_type": "stream",
     "text": [
      "Number of support vectors - 992\n",
      "b -0.15041931223896943\n",
      "time taken in svm gaussian kernel training- 86.38583374023438\n"
     ]
    }
   ],
   "source": [
    "s = time.time()\n",
    "C=1.0\n",
    "gamma = 0.05\n",
    "alpha,b,SV_X, SV_Y = svm_gaussian(X,Y,C,gamma)\n",
    "print('Number of support vectors -',SV_X.shape[0])\n",
    "print('b', b)\n",
    "print('time taken in svm gaussian kernel training-', time.time()-s)"
   ]
  },
  {
   "cell_type": "code",
   "execution_count": 16,
   "metadata": {},
   "outputs": [
    {
     "name": "stdout",
     "output_type": "stream",
     "text": [
      "Accuracy on training set using gaussian kernel - 100.0\n"
     ]
    }
   ],
   "source": [
    "Y_pred= predict_gaussian(alpha,b,SV_X, SV_Y,X)\n",
    "acc = find_accuracy(Y, Y_pred)\n",
    "print('Accuracy on training set using gaussian kernel -', acc )"
   ]
  },
  {
   "cell_type": "code",
   "execution_count": 17,
   "metadata": {},
   "outputs": [
    {
     "name": "stdout",
     "output_type": "stream",
     "text": [
      "Accuracy on validation set using gaussian kernel - 99.6\n"
     ]
    }
   ],
   "source": [
    "Y_pred_val =predict_gaussian(alpha,b,SV_X, SV_Y,X_val)\n",
    "accuracy = find_accuracy(Y_val, Y_pred_val)\n",
    "print('Accuracy on validation set using gaussian kernel -', accuracy )"
   ]
  },
  {
   "cell_type": "code",
   "execution_count": 18,
   "metadata": {},
   "outputs": [
    {
     "name": "stdout",
     "output_type": "stream",
     "text": [
      "Accuracy on test set using gaussian kernel - 98.8\n"
     ]
    }
   ],
   "source": [
    "Y_pred_test = predict_gaussian(alpha,b,SV_X, SV_Y,X_test)\n",
    "acc = find_accuracy(Y_test, Y_pred_test)\n",
    "print('Accuracy on test set using gaussian kernel -', acc )"
   ]
  },
  {
   "cell_type": "markdown",
   "metadata": {},
   "source": [
    "# 1(c) Scikit SVM"
   ]
  },
  {
   "cell_type": "markdown",
   "metadata": {},
   "source": [
    "## Linear kernel"
   ]
  },
  {
   "cell_type": "code",
   "execution_count": 19,
   "metadata": {},
   "outputs": [
    {
     "name": "stdout",
     "output_type": "stream",
     "text": [
      "NUmber of support vetors  73\n",
      "b [0.49697655]\n",
      "time taken in scikit learn svm linear kernel training- 0.42534780502319336\n"
     ]
    }
   ],
   "source": [
    "s = time.time()\n",
    "svc = SVC(kernel='linear')\n",
    "svc.fit(X,np.ravel(Y ,order = 'C') )\n",
    "print('NUmber of support vetors ', len(svc.support_vectors_) )\n",
    "print('b',svc.intercept_)\n",
    "print('time taken in scikit learn svm linear kernel training-', time.time()-s)"
   ]
  },
  {
   "cell_type": "code",
   "execution_count": 20,
   "metadata": {},
   "outputs": [
    {
     "name": "stdout",
     "output_type": "stream",
     "text": [
      "Accuracy of training set using sklearn linear kernel- 100.0\n"
     ]
    }
   ],
   "source": [
    "y_pred = svc.predict(X)\n",
    "acc=find_accuracy(Y,Y_pred)\n",
    "print('Accuracy of training set using sklearn linear kernel-', acc)"
   ]
  },
  {
   "cell_type": "code",
   "execution_count": 21,
   "metadata": {},
   "outputs": [
    {
     "name": "stdout",
     "output_type": "stream",
     "text": [
      "Accuracy of validation set using sklearn linear kernel - 99.6\n"
     ]
    }
   ],
   "source": [
    "Y_val_pred = svc.predict(X_val)\n",
    "acc = find_accuracy(Y_val,Y_val_pred)\n",
    "print('Accuracy of validation set using sklearn linear kernel -', acc)"
   ]
  },
  {
   "cell_type": "code",
   "execution_count": 22,
   "metadata": {},
   "outputs": [
    {
     "name": "stdout",
     "output_type": "stream",
     "text": [
      "Accuracy of test set using sklearn linear kernel- 99.8\n"
     ]
    }
   ],
   "source": [
    "Y_test_pred = svc.predict(X_test)\n",
    "acc=find_accuracy(Y_test,Y_test_pred)\n",
    "print('Accuracy of test set using sklearn linear kernel-', acc)"
   ]
  },
  {
   "cell_type": "markdown",
   "metadata": {},
   "source": [
    "## Gaussian Kernel"
   ]
  },
  {
   "cell_type": "code",
   "execution_count": 23,
   "metadata": {},
   "outputs": [
    {
     "name": "stdout",
     "output_type": "stream",
     "text": [
      "NUmber of support vetors  982\n",
      "b [0.32536799]\n",
      "Time taken in scikit learn svm gaussian kernel training- 3.821902275085449\n"
     ]
    }
   ],
   "source": [
    "s = time.time()\n",
    "svc = SVC(kernel='rbf', gamma=0.05, C=1)\n",
    "t = svc.fit(X, np.ravel(Y ,order = 'C'))\n",
    "print('NUmber of support vetors ', len(svc.support_vectors_) )\n",
    "print('b',svc.intercept_)\n",
    "print('Time taken in scikit learn svm gaussian kernel training-', time.time()-s)"
   ]
  },
  {
   "cell_type": "code",
   "execution_count": 24,
   "metadata": {},
   "outputs": [
    {
     "name": "stdout",
     "output_type": "stream",
     "text": [
      "Accuracy of training set using sklearn(gaussian kernel)- 100.0\n"
     ]
    }
   ],
   "source": [
    "y_pred = svc.predict(X)\n",
    "acc=find_accuracy(Y,Y_pred)\n",
    "print('Accuracy of training set using sklearn(gaussian kernel)-', acc)"
   ]
  },
  {
   "cell_type": "code",
   "execution_count": 25,
   "metadata": {},
   "outputs": [
    {
     "name": "stdout",
     "output_type": "stream",
     "text": [
      "Accuracy of validation set using sklearn(gaussian kernel) - 99.6\n"
     ]
    }
   ],
   "source": [
    "Y_val_pred = svc.predict(X_val)\n",
    "acc = find_accuracy(Y_val,Y_val_pred)\n",
    "print('Accuracy of validation set using sklearn(gaussian kernel) -', acc)"
   ]
  },
  {
   "cell_type": "code",
   "execution_count": 26,
   "metadata": {},
   "outputs": [
    {
     "name": "stdout",
     "output_type": "stream",
     "text": [
      "Accuracy of test set using sklearn(gaussian kernel) - 99.6\n"
     ]
    }
   ],
   "source": [
    "Y_test_pred = svc.predict(X_test)\n",
    "acc=find_accuracy(Y_test,Y_test_pred)\n",
    "print('Accuracy of test set using sklearn(gaussian kernel) -', acc)"
   ]
  },
  {
   "cell_type": "code",
   "execution_count": null,
   "metadata": {},
   "outputs": [],
   "source": []
  }
 ],
 "metadata": {
  "kernelspec": {
   "display_name": "Python 3",
   "language": "python",
   "name": "python3"
  },
  "language_info": {
   "codemirror_mode": {
    "name": "ipython",
    "version": 3
   },
   "file_extension": ".py",
   "mimetype": "text/x-python",
   "name": "python",
   "nbconvert_exporter": "python",
   "pygments_lexer": "ipython3",
   "version": "3.7.4"
  }
 },
 "nbformat": 4,
 "nbformat_minor": 2
}
