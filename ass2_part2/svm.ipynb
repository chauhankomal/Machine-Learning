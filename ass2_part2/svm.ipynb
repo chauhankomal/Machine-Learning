{
 "cells": [
  {
   "cell_type": "code",
   "execution_count": 1,
   "metadata": {},
   "outputs": [],
   "source": [
    "import cvxopt\n",
    "import csv\n",
    "import pandas as pd\n",
    "import numpy as np\n",
    "from random import randint\n",
    "import time\n",
    "from tqdm import tqdm, tqdm_notebook\n",
    "import math\n",
    "import pickle\n",
    "from cvxopt import solvers\n",
    "from cvxopt import matrix"
   ]
  },
  {
   "cell_type": "code",
   "execution_count": 122,
   "metadata": {},
   "outputs": [],
   "source": [
    "train_data= pd.read_csv('fashion_mnist/train.csv',header=None).to_numpy()\n",
    "t = np.array([train_data[i,:] for i in range(train_data.shape[0]) if train_data[i,-1]==4 or train_data[i,-1]==5 ] )"
   ]
  },
  {
   "cell_type": "code",
   "execution_count": 143,
   "metadata": {},
   "outputs": [
    {
     "data": {
      "text/plain": [
       "(4500, 785)"
      ]
     },
     "execution_count": 143,
     "metadata": {},
     "output_type": "execute_result"
    }
   ],
   "source": [
    "t.shape"
   ]
  },
  {
   "cell_type": "code",
   "execution_count": null,
   "metadata": {},
   "outputs": [],
   "source": []
  },
  {
   "cell_type": "code",
   "execution_count": 144,
   "metadata": {},
   "outputs": [
    {
     "data": {
      "text/plain": [
       "array([[ 0.],\n",
       "       [-1.],\n",
       "       [-1.],\n",
       "       ...,\n",
       "       [ 0.],\n",
       "       [ 0.],\n",
       "       [-1.]])"
      ]
     },
     "execution_count": 144,
     "metadata": {},
     "output_type": "execute_result"
    }
   ],
   "source": [
    "X = t[:, :-1]/255\n",
    "m= X.shape[0]\n",
    "Y1 = t[:,-1].reshape((m,1))\n",
    "Y = 4.5-Y1\n",
    "Y"
   ]
  },
  {
   "cell_type": "code",
   "execution_count": 145,
   "metadata": {},
   "outputs": [
    {
     "name": "stdout",
     "output_type": "stream",
     "text": [
      "0.3381187915802002\n"
     ]
    }
   ],
   "source": [
    "s= time.time()\n",
    "XX = np.dot(X, X.T)\n",
    "YY = Y@Y.T\n",
    "print(time.time()-s)"
   ]
  },
  {
   "cell_type": "code",
   "execution_count": 146,
   "metadata": {},
   "outputs": [
    {
     "name": "stdout",
     "output_type": "stream",
     "text": [
      "0.17952966690063477\n",
      "(4500, 4500)\n"
     ]
    }
   ],
   "source": [
    "s= time.time()\n",
    "P=matrix(np.multiply(XX,YY))\n",
    "q=matrix(np.ones([m,1])*-1)\n",
    "print(time.time()-s)\n",
    "print(YY.shape)"
   ]
  },
  {
   "cell_type": "code",
   "execution_count": 147,
   "metadata": {},
   "outputs": [
    {
     "name": "stdout",
     "output_type": "stream",
     "text": [
      "0.42592620849609375\n",
      "(1, 4500) (4500, 1) (9000, 4500) (9000, 1) (4500, 4500)\n"
     ]
    }
   ],
   "source": [
    "s= time.time()\n",
    "I = np.identity(m)\n",
    "I_neg = np.identity(m)*-1\n",
    "G = matrix(np.concatenate([I,I_neg]))\n",
    "print(time.time()-s)\n",
    "# print(I_neg)\n",
    "A=matrix(Y.reshape((1,m)))\n",
    "b = matrix([0], tc='d')\n",
    "Y=Y.reshape(m)\n",
    "print(A.size, q.size, G.size, h.size,P.size)"
   ]
  },
  {
   "cell_type": "code",
   "execution_count": 148,
   "metadata": {},
   "outputs": [
    {
     "data": {
      "text/plain": [
       "(9000, 1)"
      ]
     },
     "execution_count": 148,
     "metadata": {},
     "output_type": "execute_result"
    }
   ],
   "source": [
    "h = matrix(np.concatenate((np.ones([m,1]),np.zeros([m,1]))))\n",
    "h.size"
   ]
  },
  {
   "cell_type": "code",
   "execution_count": 149,
   "metadata": {},
   "outputs": [
    {
     "name": "stdout",
     "output_type": "stream",
     "text": [
      "     pcost       dcost       gap    pres   dres\n",
      " 0: -2.2500e+03 -6.7500e+03  2e+04  1e+00  9e-16\n",
      " 1: -1.8720e+03 -3.6392e+03  2e+03  1e-02  4e-16\n",
      " 2: -2.2100e+03 -2.2828e+03  8e+01  6e-04  4e-16\n",
      " 3: -2.2496e+03 -2.2503e+03  8e-01  6e-06  4e-16\n",
      " 4: -2.2500e+03 -2.2500e+03  8e-03  6e-08  3e-16\n",
      " 5: -2.2500e+03 -2.2500e+03  8e-05  6e-10  3e-16\n",
      "Optimal solution found.\n",
      "22.755807161331177\n"
     ]
    }
   ],
   "source": [
    "s= time.time()\n",
    "sol = solvers.qp(P,q,G,h,A,b)\n",
    "print(time.time()-s)"
   ]
  },
  {
   "cell_type": "code",
   "execution_count": 150,
   "metadata": {},
   "outputs": [
    {
     "name": "stdout",
     "output_type": "stream",
     "text": [
      "optimal\n"
     ]
    },
    {
     "data": {
      "text/plain": [
       "0.9999999822128603"
      ]
     },
     "execution_count": 150,
     "metadata": {},
     "output_type": "execute_result"
    }
   ],
   "source": [
    "alpha=np.array(sol['x'])\n",
    "print(sol['status'])\n",
    "tt =[i for i in alpha if i >=0.1]\n",
    "alpha.max()"
   ]
  },
  {
   "cell_type": "code",
   "execution_count": null,
   "metadata": {},
   "outputs": [],
   "source": []
  },
  {
   "cell_type": "code",
   "execution_count": null,
   "metadata": {},
   "outputs": [],
   "source": []
  }
 ],
 "metadata": {
  "kernelspec": {
   "display_name": "Python 3",
   "language": "python",
   "name": "python3"
  },
  "language_info": {
   "codemirror_mode": {
    "name": "ipython",
    "version": 3
   },
   "file_extension": ".py",
   "mimetype": "text/x-python",
   "name": "python",
   "nbconvert_exporter": "python",
   "pygments_lexer": "ipython3",
   "version": "3.7.4"
  }
 },
 "nbformat": 4,
 "nbformat_minor": 2
}
