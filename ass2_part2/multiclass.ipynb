{
 "cells": [
  {
   "cell_type": "code",
   "execution_count": 0,
   "metadata": {
    "colab": {},
    "colab_type": "code",
    "id": "wgrsiGnED-7P"
   },
   "outputs": [],
   "source": [
    "import cvxopt\n",
    "import csv\n",
    "import pandas as pd\n",
    "import numpy as np\n",
    "from random import randint\n",
    "import time\n",
    "from tqdm import tqdm, tqdm_notebook\n",
    "import math\n",
    "import pickle\n",
    "from cvxopt import solvers\n",
    "from cvxopt import matrix\n",
    "from scipy.spatial.distance import pdist, cdist\n",
    "from sklearn.svm import SVC\n",
    "from tqdm import trange\n",
    "from sklearn.model_selection import StratifiedKFold\n",
    "import seaborn as sns\n",
    "import matplotlib.pyplot as plt\n",
    "import math\n",
    "from joblib import Parallel,delayed"
   ]
  },
  {
   "cell_type": "code",
   "execution_count": 0,
   "metadata": {
    "colab": {},
    "colab_type": "code",
    "id": "-DnRO5uiD-7X"
   },
   "outputs": [],
   "source": [
    "train= pd.read_csv('fashion_mnist/train.csv',header=None).to_numpy()\n",
    "val= pd.read_csv('fashion_mnist/val.csv',header=None).to_numpy()\n",
    "test= pd.read_csv('fashion_mnist/test.csv',header=None).to_numpy()"
   ]
  },
  {
   "cell_type": "code",
   "execution_count": 0,
   "metadata": {
    "colab": {},
    "colab_type": "code",
    "id": "kLm0FBZxD-7c"
   },
   "outputs": [],
   "source": [
    "def load_train_data(a,b):\n",
    "    train_data = np.array([train[i,:] for i in range(train.shape[0]) if train[i,-1]== a or train[i,-1]==b ] )  \n",
    "    X = train_data[:, :-1]/255\n",
    "    m= X.shape[0]\n",
    "    Y1 = train_data[:,-1].reshape((m,1))\n",
    "    Y1[Y1==a] = -1\n",
    "    Y1[Y1==b] = 1\n",
    "    return X,Y1"
   ]
  },
  {
   "cell_type": "code",
   "execution_count": 0,
   "metadata": {
    "colab": {},
    "colab_type": "code",
    "id": "1g98ce6cD-7h"
   },
   "outputs": [],
   "source": [
    "def load_data():\n",
    "  X = train[:, :-1]/255\n",
    "  m= X.shape[0]\n",
    "  Y1 = train[:,-1].reshape((m,1))\n",
    "\n",
    "  X_val = val[:, :-1]/255\n",
    "  m_val= X_val.shape[0]\n",
    "  Y1_val = val[:,-1].reshape((m_val,1))\n",
    "\n",
    "  X_test = test[:, :-1]/255\n",
    "  m_test= X_test.shape[0]\n",
    "  Y1_test = test[:,-1].reshape((m_test,1))\n",
    "\n",
    "  return X_val, Y1_val, X_test, Y1_test, X,Y1"
   ]
  },
  {
   "cell_type": "code",
   "execution_count": 0,
   "metadata": {
    "colab": {},
    "colab_type": "code",
    "id": "oIu-59QAD-7l"
   },
   "outputs": [],
   "source": [
    "def find_accuracy(y, y_pred):\n",
    "    correct =0  \n",
    "    for i in range(len(y)): \n",
    "        if y[i] == y_pred[i]:\n",
    "            correct +=1\n",
    "    return (correct/len(y)) *100, "
   ]
  },
  {
   "cell_type": "code",
   "execution_count": 0,
   "metadata": {
    "colab": {},
    "colab_type": "code",
    "id": "qvbrjS4GD-7w"
   },
   "outputs": [],
   "source": [
    "def svm_gaussian(X,Y):\n",
    "    m= X.shape[0]\n",
    "    t =cdist(X,X,'euclidean')\n",
    "    K = np.exp((t**2) * (-0.05))\n",
    "    YY = Y@Y.T\n",
    "    P=matrix(np.multiply(K,YY))\n",
    "    q=matrix(np.ones([m,1])*-1)\n",
    "    I = np.identity(m)\n",
    "    I_neg = np.identity(m)*-1\n",
    "    G = matrix(np.concatenate([I,I_neg]))\n",
    "    A=matrix(Y.reshape((1,m)))\n",
    "    b = matrix([0], tc='d')\n",
    "    Y=Y.reshape(m)\n",
    "    h = matrix(np.concatenate((np.ones([m,1]),np.zeros([m,1]))))    \n",
    "    solvers.options['show_progress'] = False\n",
    "    sol = solvers.qp(P,q,G,h,A,b)\n",
    "    alpha=np.array(sol['x'])   \n",
    "    SV_i =[i for i in range(len(alpha)) if alpha[i] >=1e-6]\n",
    "    alpha1= np.array([alpha[i] for i in SV_i])\n",
    "    SV_X = np.array([X[i] for i in SV_i])\n",
    "    SV_Y = np.array([Y[i] for i in SV_i]).reshape((SV_X.shape[0],1))   \n",
    "    X_pos= np.array([X[i] for i in range(len(Y)) if Y[i]==1.0])\n",
    "    X_neg= np.array([X[i] for i in range(len(Y)) if Y[i]==-1.0])\n",
    "    print(X_neg.shape)\n",
    "    t_neg= cdist(SV_X,X_neg,'euclidean')\n",
    "    K_neg= np.exp((t_neg**2) * (-0.05))\n",
    "    t_pos= cdist(SV_X,X_pos,'euclidean')\n",
    "    K_pos= np.exp((t_pos**2) * (-0.05))\n",
    "    X_neg_k =np.dot(K_neg.T,(SV_Y*alpha1))\n",
    "    X_pos_k =np.dot(K_pos.T,(SV_Y*alpha1))\n",
    "    b = -(X_neg_k.max()+X_pos_k.min())/2\n",
    "    print(alpha1.shape,SV_X.shape,X_pos.shape, X_neg.shape,  X_neg_k.shape)\n",
    "    return [alpha1,b,SV_X, SV_Y]"
   ]
  },
  {
   "cell_type": "code",
   "execution_count": 0,
   "metadata": {
    "colab": {},
    "colab_type": "code",
    "id": "25dBrWflfmID"
   },
   "outputs": [],
   "source": [
    "def find_max_class(dict):\n",
    "  max =0\n",
    "  max_key=-1\n",
    "  for key in dict:\n",
    "    if(dict[key][0]>max):\n",
    "      max = dict[key][0]\n",
    "      max_key=key\n",
    "    elif (dict[key][0]==max):\n",
    "      if(dict[key][1]>dict[max_key][1]):\n",
    "        max_key = key\n",
    "  return max_key"
   ]
  },
  {
   "cell_type": "code",
   "execution_count": 0,
   "metadata": {
    "colab": {},
    "colab_type": "code",
    "id": "iWNRbf_ifseL"
   },
   "outputs": [],
   "source": [
    "def predict_gaussian(X):\n",
    "  count=0;\n",
    "  class_pred=[]\n",
    "  for i in range(X.shape[0]):\n",
    "    dict={}\n",
    "    for i in range(10):\n",
    "      dict[i]= [0,0] \n",
    "    class_pred.append(dict)\n",
    "  for i in range(45):\n",
    "    [alpha,b,SV_X, SV_Y,p,q]=models[i]\n",
    "    t= cdist(SV_X,X,'euclidean')\n",
    "    K= np.exp((t**2) * (-0.05))\n",
    "    pred = np.dot(K.T,(SV_Y*alpha))+b\n",
    "    pred= pred.tolist()\n",
    "    Y_pred =[]\n",
    "    for j in range(len(pred)) :\n",
    "      if pred[j][0] >0:         \n",
    "          class_pred[j][q][0]+=1\n",
    "          class_pred[j][q][1]+=pred[j][0]\n",
    "      else :\n",
    "          class_pred[j][p][0]+=1\n",
    "          class_pred[j][p][1]+=abs(pred[j][0])\n",
    "  for i in range(X.shape[0]):\n",
    "    Y_pred.append(find_max_class(class_pred[i])) \n",
    "  return Y_pred"
   ]
  },
  {
   "cell_type": "code",
   "execution_count": 11,
   "metadata": {
    "colab": {
     "base_uri": "https://localhost:8080/",
     "height": 1000
    },
    "colab_type": "code",
    "id": "UMUQ7dtkD-8C",
    "outputId": "8feb1a43-8693-4577-f125-13417aaf6bd0"
   },
   "outputs": [
    {
     "name": "stderr",
     "output_type": "stream",
     "text": [
      "  0%|          | 0/10 [00:00<?, ?it/s]\n",
      "  0%|          | 0/9 [00:00<?, ?it/s]\u001b[A"
     ]
    },
    {
     "name": "stdout",
     "output_type": "stream",
     "text": [
      "0 1\n",
      "(2250, 784)\n"
     ]
    },
    {
     "name": "stderr",
     "output_type": "stream",
     "text": [
      "\n",
      " 11%|█         | 1/9 [00:36<04:55, 36.90s/it]\u001b[A"
     ]
    },
    {
     "name": "stdout",
     "output_type": "stream",
     "text": [
      "(858, 1) (858, 784) (2250, 784) (2250, 784) (2250, 1)\n",
      "0 2\n",
      "(2250, 784)\n"
     ]
    },
    {
     "name": "stderr",
     "output_type": "stream",
     "text": [
      "\n",
      " 22%|██▏       | 2/9 [01:13<04:17, 36.84s/it]\u001b[A"
     ]
    },
    {
     "name": "stdout",
     "output_type": "stream",
     "text": [
      "(1334, 1) (1334, 784) (2250, 784) (2250, 784) (2250, 1)\n",
      "0 3\n",
      "(2250, 784)\n"
     ]
    },
    {
     "name": "stderr",
     "output_type": "stream",
     "text": [
      "\n",
      " 33%|███▎      | 3/9 [01:50<03:40, 36.81s/it]\u001b[A"
     ]
    },
    {
     "name": "stdout",
     "output_type": "stream",
     "text": [
      "(1566, 1) (1566, 784) (2250, 784) (2250, 784) (2250, 1)\n",
      "0 4\n",
      "(2250, 784)\n"
     ]
    },
    {
     "name": "stderr",
     "output_type": "stream",
     "text": [
      "\n",
      " 44%|████▍     | 4/9 [02:26<03:02, 36.53s/it]\u001b[A"
     ]
    },
    {
     "name": "stdout",
     "output_type": "stream",
     "text": [
      "(1103, 1) (1103, 784) (2250, 784) (2250, 784) (2250, 1)\n",
      "0 5\n",
      "(2250, 784)\n"
     ]
    },
    {
     "name": "stderr",
     "output_type": "stream",
     "text": [
      "\n",
      " 56%|█████▌    | 5/9 [03:02<02:25, 36.43s/it]\u001b[A"
     ]
    },
    {
     "name": "stdout",
     "output_type": "stream",
     "text": [
      "(1034, 1) (1034, 784) (2250, 784) (2250, 784) (2250, 1)\n",
      "0 6\n",
      "(2250, 784)\n"
     ]
    },
    {
     "name": "stderr",
     "output_type": "stream",
     "text": [
      "\n",
      " 67%|██████▋   | 6/9 [03:42<01:52, 37.42s/it]\u001b[A"
     ]
    },
    {
     "name": "stdout",
     "output_type": "stream",
     "text": [
      "(2574, 1) (2574, 784) (2250, 784) (2250, 784) (2250, 1)\n",
      "0 7\n",
      "(2250, 784)\n"
     ]
    },
    {
     "name": "stderr",
     "output_type": "stream",
     "text": [
      "\n",
      " 78%|███████▊  | 7/9 [04:19<01:14, 37.25s/it]\u001b[A"
     ]
    },
    {
     "name": "stdout",
     "output_type": "stream",
     "text": [
      "(612, 1) (612, 784) (2250, 784) (2250, 784) (2250, 1)\n",
      "0 8\n",
      "(2250, 784)\n"
     ]
    },
    {
     "name": "stderr",
     "output_type": "stream",
     "text": [
      "\n",
      " 89%|████████▉ | 8/9 [04:55<00:37, 37.13s/it]\u001b[A"
     ]
    },
    {
     "name": "stdout",
     "output_type": "stream",
     "text": [
      "(1342, 1) (1342, 784) (2250, 784) (2250, 784) (2250, 1)\n",
      "0 9\n",
      "(2250, 784)\n"
     ]
    },
    {
     "name": "stderr",
     "output_type": "stream",
     "text": [
      "\n",
      "100%|██████████| 9/9 [05:31<00:00, 36.80s/it]\u001b[A\n",
      " 10%|█         | 1/10 [05:31<49:46, 331.88s/it]\n",
      "  0%|          | 0/8 [00:00<?, ?it/s]\u001b[A"
     ]
    },
    {
     "name": "stdout",
     "output_type": "stream",
     "text": [
      "(878, 1) (878, 784) (2250, 784) (2250, 784) (2250, 1)\n",
      "1 2\n",
      "(2250, 784)\n"
     ]
    },
    {
     "name": "stderr",
     "output_type": "stream",
     "text": [
      "\n",
      " 12%|█▎        | 1/8 [00:37<04:19, 37.07s/it]\u001b[A"
     ]
    },
    {
     "name": "stdout",
     "output_type": "stream",
     "text": [
      "(844, 1) (844, 784) (2250, 784) (2250, 784) (2250, 1)\n",
      "1 3\n",
      "(2250, 784)\n"
     ]
    },
    {
     "name": "stderr",
     "output_type": "stream",
     "text": [
      "\n",
      " 25%|██▌       | 2/8 [01:16<03:46, 37.78s/it]\u001b[A"
     ]
    },
    {
     "name": "stdout",
     "output_type": "stream",
     "text": [
      "(995, 1) (995, 784) (2250, 784) (2250, 784) (2250, 1)\n",
      "1 4\n",
      "(2250, 784)\n"
     ]
    },
    {
     "name": "stderr",
     "output_type": "stream",
     "text": [
      "\n",
      " 38%|███▊      | 3/8 [01:53<03:07, 37.46s/it]\u001b[A"
     ]
    },
    {
     "name": "stdout",
     "output_type": "stream",
     "text": [
      "(762, 1) (762, 784) (2250, 784) (2250, 784) (2250, 1)\n",
      "1 5\n",
      "(2250, 784)\n"
     ]
    },
    {
     "name": "stderr",
     "output_type": "stream",
     "text": [
      "\n",
      " 50%|█████     | 4/8 [02:31<02:31, 37.84s/it]\u001b[A"
     ]
    },
    {
     "name": "stdout",
     "output_type": "stream",
     "text": [
      "(806, 1) (806, 784) (2250, 784) (2250, 784) (2250, 1)\n",
      "1 6\n",
      "(2250, 784)\n"
     ]
    },
    {
     "name": "stderr",
     "output_type": "stream",
     "text": [
      "\n",
      " 62%|██████▎   | 5/8 [03:09<01:53, 37.79s/it]\u001b[A"
     ]
    },
    {
     "name": "stdout",
     "output_type": "stream",
     "text": [
      "(970, 1) (970, 784) (2250, 784) (2250, 784) (2250, 1)\n",
      "1 7\n",
      "(2250, 784)\n"
     ]
    },
    {
     "name": "stderr",
     "output_type": "stream",
     "text": [
      "\n",
      " 75%|███████▌  | 6/8 [03:47<01:15, 37.79s/it]\u001b[A"
     ]
    },
    {
     "name": "stdout",
     "output_type": "stream",
     "text": [
      "(404, 1) (404, 784) (2250, 784) (2250, 784) (2250, 1)\n",
      "1 8\n",
      "(2250, 784)\n"
     ]
    },
    {
     "name": "stderr",
     "output_type": "stream",
     "text": [
      "\n",
      " 88%|████████▊ | 7/8 [04:26<00:38, 38.16s/it]\u001b[A"
     ]
    },
    {
     "name": "stdout",
     "output_type": "stream",
     "text": [
      "(985, 1) (985, 784) (2250, 784) (2250, 784) (2250, 1)\n",
      "1 9\n",
      "(2250, 784)\n"
     ]
    },
    {
     "name": "stderr",
     "output_type": "stream",
     "text": [
      "\n",
      "100%|██████████| 8/8 [05:04<00:00, 38.26s/it]\u001b[A\n",
      " 20%|██        | 2/10 [10:36<43:10, 323.80s/it]\n",
      "  0%|          | 0/7 [00:00<?, ?it/s]\u001b[A"
     ]
    },
    {
     "name": "stdout",
     "output_type": "stream",
     "text": [
      "(636, 1) (636, 784) (2250, 784) (2250, 784) (2250, 1)\n",
      "2 3\n",
      "(2250, 784)\n"
     ]
    },
    {
     "name": "stderr",
     "output_type": "stream",
     "text": [
      "\n",
      " 14%|█▍        | 1/7 [00:36<03:41, 36.89s/it]\u001b[A"
     ]
    },
    {
     "name": "stdout",
     "output_type": "stream",
     "text": [
      "(1145, 1) (1145, 784) (2250, 784) (2250, 784) (2250, 1)\n",
      "2 4\n",
      "(2250, 784)\n"
     ]
    },
    {
     "name": "stderr",
     "output_type": "stream",
     "text": [
      "\n",
      " 29%|██▊       | 2/7 [01:16<03:08, 37.75s/it]\u001b[A"
     ]
    },
    {
     "name": "stdout",
     "output_type": "stream",
     "text": [
      "(2462, 1) (2462, 784) (2250, 784) (2250, 784) (2250, 1)\n",
      "2 5\n",
      "(2250, 784)\n"
     ]
    },
    {
     "name": "stderr",
     "output_type": "stream",
     "text": [
      "\n",
      " 43%|████▎     | 3/7 [01:53<02:29, 37.36s/it]\u001b[A"
     ]
    },
    {
     "name": "stdout",
     "output_type": "stream",
     "text": [
      "(1120, 1) (1120, 784) (2250, 784) (2250, 784) (2250, 1)\n",
      "2 6\n",
      "(2250, 784)\n"
     ]
    },
    {
     "name": "stderr",
     "output_type": "stream",
     "text": [
      "\n",
      " 57%|█████▋    | 4/7 [02:33<01:54, 38.25s/it]\u001b[A"
     ]
    },
    {
     "name": "stdout",
     "output_type": "stream",
     "text": [
      "(2597, 1) (2597, 784) (2250, 784) (2250, 784) (2250, 1)\n",
      "2 7\n",
      "(2250, 784)\n"
     ]
    },
    {
     "name": "stderr",
     "output_type": "stream",
     "text": [
      "\n",
      " 71%|███████▏  | 5/7 [03:11<01:16, 38.34s/it]\u001b[A"
     ]
    },
    {
     "name": "stdout",
     "output_type": "stream",
     "text": [
      "(634, 1) (634, 784) (2250, 784) (2250, 784) (2250, 1)\n",
      "2 8\n",
      "(2250, 784)\n"
     ]
    },
    {
     "name": "stderr",
     "output_type": "stream",
     "text": [
      "\n",
      " 86%|████████▌ | 6/7 [03:50<00:38, 38.54s/it]\u001b[A"
     ]
    },
    {
     "name": "stdout",
     "output_type": "stream",
     "text": [
      "(1433, 1) (1433, 784) (2250, 784) (2250, 784) (2250, 1)\n",
      "2 9\n",
      "(2250, 784)\n"
     ]
    },
    {
     "name": "stderr",
     "output_type": "stream",
     "text": [
      "\n",
      "100%|██████████| 7/7 [04:28<00:00, 38.11s/it]\u001b[A\n",
      " 30%|███       | 3/10 [15:04<35:49, 307.08s/it]\n",
      "  0%|          | 0/6 [00:00<?, ?it/s]\u001b[A"
     ]
    },
    {
     "name": "stdout",
     "output_type": "stream",
     "text": [
      "(891, 1) (891, 784) (2250, 784) (2250, 784) (2250, 1)\n",
      "3 4\n",
      "(2250, 784)\n"
     ]
    },
    {
     "name": "stderr",
     "output_type": "stream",
     "text": [
      "\n",
      " 17%|█▋        | 1/6 [00:38<03:12, 38.54s/it]\u001b[A"
     ]
    },
    {
     "name": "stdout",
     "output_type": "stream",
     "text": [
      "(1280, 1) (1280, 784) (2250, 784) (2250, 784) (2250, 1)\n",
      "3 5\n",
      "(2250, 784)\n"
     ]
    },
    {
     "name": "stderr",
     "output_type": "stream",
     "text": [
      "\n",
      " 33%|███▎      | 2/6 [01:17<02:34, 38.57s/it]\u001b[A"
     ]
    },
    {
     "name": "stdout",
     "output_type": "stream",
     "text": [
      "(929, 1) (929, 784) (2250, 784) (2250, 784) (2250, 1)\n",
      "3 6\n",
      "(2250, 784)\n"
     ]
    },
    {
     "name": "stderr",
     "output_type": "stream",
     "text": [
      "\n",
      " 50%|█████     | 3/6 [01:56<01:56, 38.93s/it]\u001b[A"
     ]
    },
    {
     "name": "stdout",
     "output_type": "stream",
     "text": [
      "(1658, 1) (1658, 784) (2250, 784) (2250, 784) (2250, 1)\n",
      "3 7\n",
      "(2250, 784)\n"
     ]
    },
    {
     "name": "stderr",
     "output_type": "stream",
     "text": [
      "\n",
      " 67%|██████▋   | 4/6 [02:33<01:16, 38.20s/it]\u001b[A"
     ]
    },
    {
     "name": "stdout",
     "output_type": "stream",
     "text": [
      "(550, 1) (550, 784) (2250, 784) (2250, 784) (2250, 1)\n",
      "3 8\n",
      "(2250, 784)\n"
     ]
    },
    {
     "name": "stderr",
     "output_type": "stream",
     "text": [
      "\n",
      " 83%|████████▎ | 5/6 [03:10<00:37, 37.73s/it]\u001b[A"
     ]
    },
    {
     "name": "stdout",
     "output_type": "stream",
     "text": [
      "(1304, 1) (1304, 784) (2250, 784) (2250, 784) (2250, 1)\n",
      "3 9\n",
      "(2250, 784)\n"
     ]
    },
    {
     "name": "stderr",
     "output_type": "stream",
     "text": [
      "\n",
      "100%|██████████| 6/6 [03:46<00:00, 37.41s/it]\u001b[A\n",
      " 40%|████      | 4/10 [18:51<28:17, 282.99s/it]\n",
      "  0%|          | 0/5 [00:00<?, ?it/s]\u001b[A"
     ]
    },
    {
     "name": "stdout",
     "output_type": "stream",
     "text": [
      "(769, 1) (769, 784) (2250, 784) (2250, 784) (2250, 1)\n",
      "4 5\n",
      "(2250, 784)\n"
     ]
    },
    {
     "name": "stderr",
     "output_type": "stream",
     "text": [
      "\n",
      " 20%|██        | 1/5 [00:37<02:31, 37.83s/it]\u001b[A"
     ]
    },
    {
     "name": "stdout",
     "output_type": "stream",
     "text": [
      "(1028, 1) (1028, 784) (2250, 784) (2250, 784) (2250, 1)\n",
      "4 6\n",
      "(2250, 784)\n"
     ]
    },
    {
     "name": "stderr",
     "output_type": "stream",
     "text": [
      "\n",
      " 40%|████      | 2/5 [01:17<01:54, 38.29s/it]\u001b[A"
     ]
    },
    {
     "name": "stdout",
     "output_type": "stream",
     "text": [
      "(2439, 1) (2439, 784) (2250, 784) (2250, 784) (2250, 1)\n",
      "4 7\n",
      "(2250, 784)\n"
     ]
    },
    {
     "name": "stderr",
     "output_type": "stream",
     "text": [
      "\n",
      " 60%|██████    | 3/5 [01:53<01:15, 37.67s/it]\u001b[A"
     ]
    },
    {
     "name": "stdout",
     "output_type": "stream",
     "text": [
      "(584, 1) (584, 784) (2250, 784) (2250, 784) (2250, 1)\n",
      "4 8\n",
      "(2250, 784)\n"
     ]
    },
    {
     "name": "stderr",
     "output_type": "stream",
     "text": [
      "\n",
      " 80%|████████  | 4/5 [02:30<00:37, 37.59s/it]\u001b[A"
     ]
    },
    {
     "name": "stdout",
     "output_type": "stream",
     "text": [
      "(1348, 1) (1348, 784) (2250, 784) (2250, 784) (2250, 1)\n",
      "4 9\n",
      "(2250, 784)\n"
     ]
    },
    {
     "name": "stderr",
     "output_type": "stream",
     "text": [
      "\n",
      "100%|██████████| 5/5 [03:07<00:00, 37.17s/it]\u001b[A\n",
      " 50%|█████     | 5/10 [21:58<21:10, 254.20s/it]\n",
      "  0%|          | 0/4 [00:00<?, ?it/s]\u001b[A"
     ]
    },
    {
     "name": "stdout",
     "output_type": "stream",
     "text": [
      "(843, 1) (843, 784) (2250, 784) (2250, 784) (2250, 1)\n",
      "5 6\n",
      "(2250, 784)\n"
     ]
    },
    {
     "name": "stderr",
     "output_type": "stream",
     "text": [
      "\n",
      " 25%|██▌       | 1/4 [00:39<01:59, 39.90s/it]\u001b[A"
     ]
    },
    {
     "name": "stdout",
     "output_type": "stream",
     "text": [
      "(1140, 1) (1140, 784) (2250, 784) (2250, 784) (2250, 1)\n",
      "5 7\n",
      "(2250, 784)\n"
     ]
    },
    {
     "name": "stderr",
     "output_type": "stream",
     "text": [
      "\n",
      " 50%|█████     | 2/4 [01:18<01:18, 39.44s/it]\u001b[A"
     ]
    },
    {
     "name": "stdout",
     "output_type": "stream",
     "text": [
      "(1505, 1) (1505, 784) (2250, 784) (2250, 784) (2250, 1)\n",
      "5 8\n",
      "(2250, 784)\n"
     ]
    },
    {
     "name": "stderr",
     "output_type": "stream",
     "text": [
      "\n",
      " 75%|███████▌  | 3/4 [01:56<00:39, 39.22s/it]\u001b[A"
     ]
    },
    {
     "name": "stdout",
     "output_type": "stream",
     "text": [
      "(1636, 1) (1636, 784) (2250, 784) (2250, 784) (2250, 1)\n",
      "5 9\n",
      "(2250, 784)\n"
     ]
    },
    {
     "name": "stderr",
     "output_type": "stream",
     "text": [
      "\n",
      "100%|██████████| 4/4 [02:36<00:00, 39.23s/it]\u001b[A\n",
      " 60%|██████    | 6/10 [24:34<14:59, 224.81s/it]\n",
      "  0%|          | 0/3 [00:00<?, ?it/s]\u001b[A"
     ]
    },
    {
     "name": "stdout",
     "output_type": "stream",
     "text": [
      "(1342, 1) (1342, 784) (2250, 784) (2250, 784) (2250, 1)\n",
      "6 7\n",
      "(2250, 784)\n"
     ]
    },
    {
     "name": "stderr",
     "output_type": "stream",
     "text": [
      "\n",
      " 33%|███▎      | 1/3 [00:37<01:15, 37.51s/it]\u001b[A"
     ]
    },
    {
     "name": "stdout",
     "output_type": "stream",
     "text": [
      "(684, 1) (684, 784) (2250, 784) (2250, 784) (2250, 1)\n",
      "6 8\n",
      "(2250, 784)\n"
     ]
    },
    {
     "name": "stderr",
     "output_type": "stream",
     "text": [
      "\n",
      " 67%|██████▋   | 2/3 [01:16<00:37, 37.86s/it]\u001b[A"
     ]
    },
    {
     "name": "stdout",
     "output_type": "stream",
     "text": [
      "(1570, 1) (1570, 784) (2250, 784) (2250, 784) (2250, 1)\n",
      "6 9\n",
      "(2250, 784)\n"
     ]
    },
    {
     "name": "stderr",
     "output_type": "stream",
     "text": [
      "\n",
      "100%|██████████| 3/3 [01:53<00:00, 37.55s/it]\u001b[A\n",
      " 70%|███████   | 7/10 [26:27<09:33, 191.28s/it]\n",
      "  0%|          | 0/2 [00:00<?, ?it/s]\u001b[A"
     ]
    },
    {
     "name": "stdout",
     "output_type": "stream",
     "text": [
      "(940, 1) (940, 784) (2250, 784) (2250, 784) (2250, 1)\n",
      "7 8\n",
      "(2250, 784)\n"
     ]
    },
    {
     "name": "stderr",
     "output_type": "stream",
     "text": [
      "\n",
      " 50%|█████     | 1/2 [00:38<00:38, 38.43s/it]\u001b[A"
     ]
    },
    {
     "name": "stdout",
     "output_type": "stream",
     "text": [
      "(1089, 1) (1089, 784) (2250, 784) (2250, 784) (2250, 1)\n",
      "7 9\n",
      "(2250, 784)\n"
     ]
    },
    {
     "name": "stderr",
     "output_type": "stream",
     "text": [
      "\n",
      "100%|██████████| 2/2 [01:17<00:00, 38.60s/it]\u001b[A\n",
      " 80%|████████  | 8/10 [27:45<05:14, 157.12s/it]\n",
      "  0%|          | 0/1 [00:00<?, ?it/s]\u001b[A"
     ]
    },
    {
     "name": "stdout",
     "output_type": "stream",
     "text": [
      "(1287, 1) (1287, 784) (2250, 784) (2250, 784) (2250, 1)\n",
      "8 9\n",
      "(2250, 784)\n"
     ]
    },
    {
     "name": "stderr",
     "output_type": "stream",
     "text": [
      "\n",
      "100%|██████████| 1/1 [00:37<00:00, 37.75s/it]\u001b[A\n",
      " 90%|█████████ | 9/10 [28:23<02:01, 121.31s/it]\n",
      "0it [00:00, ?it/s]\u001b[A\n",
      "100%|██████████| 10/10 [28:23<00:00, 170.31s/it]"
     ]
    },
    {
     "name": "stdout",
     "output_type": "stream",
     "text": [
      "(1270, 1) (1270, 784) (2250, 784) (2250, 784) (2250, 1)\n"
     ]
    },
    {
     "name": "stderr",
     "output_type": "stream",
     "text": [
      "\n"
     ]
    }
   ],
   "source": [
    "l_model=[]\n",
    "classes= list(range(10))\n",
    "for i in trange(10):\n",
    "    for j in trange(i+1, 10):\n",
    "        X,Y=load_train_data(classes[i],classes[j])\n",
    "        print(classes[i],classes[j])\n",
    "        model= svm_gaussian(X,Y)\n",
    "        l_model.append(model)"
   ]
  },
  {
   "cell_type": "code",
   "execution_count": 0,
   "metadata": {
    "colab": {},
    "colab_type": "code",
    "id": "jwbmazUSfpXS"
   },
   "outputs": [],
   "source": [
    "def print_confusion_martix(Y_actual, Y_pred):\n",
    "  m = np.zeros((10, 10)).astype(int)\n",
    "  for i in range(Y_actual.shape[0]):\n",
    "    m[Y_actual[i]][Y_pred[i]]+=1  \n",
    "  return m"
   ]
  },
  {
   "cell_type": "code",
   "execution_count": 0,
   "metadata": {
    "colab": {},
    "colab_type": "code",
    "id": "90dAnDycD-8G"
   },
   "outputs": [],
   "source": [
    "models_pickle = open(\"models_pickle\",'wb')\n",
    "pickle.dump(l_model, models_pickle)"
   ]
  },
  {
   "cell_type": "code",
   "execution_count": 0,
   "metadata": {
    "colab": {},
    "colab_type": "code",
    "id": "_nLQdRPjh66N"
   },
   "outputs": [],
   "source": [
    "file= open(\"models_pickle\",'rb')\n",
    "models = pickle.load(file)\n",
    "file.close()\n",
    "count =0\n",
    "for i in range(10):\n",
    "    for j in range(i+1, 10):\n",
    "        models[count].append(i)\n",
    "        models[count].append(j)\n",
    "        count+=1\n",
    "models = np.array(models)"
   ]
  },
  {
   "cell_type": "code",
   "execution_count": 15,
   "metadata": {
    "colab": {
     "base_uri": "https://localhost:8080/",
     "height": 34
    },
    "colab_type": "code",
    "id": "_0jkyHYXp928",
    "outputId": "737a0d9b-cc3f-490b-85d8-8b661c114419"
   },
   "outputs": [
    {
     "name": "stdout",
     "output_type": "stream",
     "text": [
      "prediction time in validation set  87.89004588127136\n"
     ]
    }
   ],
   "source": [
    "X_val, Y_val, X_test, Y_test, X_train, Y_train=load_data()\n",
    "s = time.time()\n",
    "pred_val=predict_gaussian(X_val)\n",
    "print('prediction time in validation set ', time.time()-s)"
   ]
  },
  {
   "cell_type": "markdown",
   "metadata": {
    "colab_type": "text",
    "id": "1Af7WyFPGUA2"
   },
   "source": [
    "### Accuracy on validation -  84.96\n",
    " "
   ]
  },
  {
   "cell_type": "code",
   "execution_count": 16,
   "metadata": {
    "colab": {
     "base_uri": "https://localhost:8080/",
     "height": 34
    },
    "colab_type": "code",
    "id": "zYvJv9lKWSlc",
    "outputId": "b4930e50-bde7-4c5c-df4c-ee9281ce6bf9"
   },
   "outputs": [
    {
     "name": "stdout",
     "output_type": "stream",
     "text": [
      "Accuracy on validation set  - (84.96000000000001,)\n"
     ]
    }
   ],
   "source": [
    "accuracy = find_accuracy(Y_val, pred_val)\n",
    "print('Accuracy on validation set  -', accuracy)"
   ]
  },
  {
   "cell_type": "code",
   "execution_count": 17,
   "metadata": {
    "colab": {
     "base_uri": "https://localhost:8080/",
     "height": 34
    },
    "colab_type": "code",
    "id": "Vt85qpNUgCB1",
    "outputId": "34081e1f-0680-43a4-d47f-1553f699a407"
   },
   "outputs": [
    {
     "name": "stdout",
     "output_type": "stream",
     "text": [
      "prediction time in test set  216.46912360191345\n"
     ]
    }
   ],
   "source": [
    "s = time.time()\n",
    "pred_test=predict_gaussian(X_test)\n",
    "print('prediction time in test set ', time.time()-s)"
   ]
  },
  {
   "cell_type": "markdown",
   "metadata": {
    "colab_type": "text",
    "id": "jqL6H3bKGMAr"
   },
   "source": [
    "### Accuracy on test data- 85.08"
   ]
  },
  {
   "cell_type": "code",
   "execution_count": 18,
   "metadata": {
    "colab": {
     "base_uri": "https://localhost:8080/",
     "height": 34
    },
    "colab_type": "code",
    "id": "hPceJtMxhX-v",
    "outputId": "92eb784d-3902-4fa5-da5b-01169bc34e8f"
   },
   "outputs": [
    {
     "name": "stdout",
     "output_type": "stream",
     "text": [
      "Accuracy on test data - (85.08,)\n"
     ]
    }
   ],
   "source": [
    "acc=find_accuracy(Y_test, pred_test)\n",
    "print('Accuracy on test data -', acc )"
   ]
  },
  {
   "cell_type": "code",
   "execution_count": 0,
   "metadata": {
    "colab": {},
    "colab_type": "code",
    "id": "pm04WGQ8RQFV"
   },
   "outputs": [],
   "source": [
    "# s= time.time()\n",
    "# pred_train=predict_gaussian(X_train)\n",
    "# print('prediction time in train set ', time.time()-s)"
   ]
  },
  {
   "cell_type": "markdown",
   "metadata": {
    "colab_type": "text",
    "id": "g5uZ6HsfI8Rg"
   },
   "source": [
    "# Accuracy on train data = 96.52"
   ]
  },
  {
   "cell_type": "markdown",
   "metadata": {
    "colab_type": "text",
    "id": "Q3EC0qmaOmwq"
   },
   "source": []
  },
  {
   "cell_type": "code",
   "execution_count": 0,
   "metadata": {
    "colab": {},
    "colab_type": "code",
    "id": "ABDiISJKqhKw"
   },
   "outputs": [],
   "source": [
    "# accuracy =find_accuracy(Y_train, pred_train)\n",
    "# print('accuracy on train data - ', accuracy)"
   ]
  },
  {
   "cell_type": "markdown",
   "metadata": {
    "colab_type": "text",
    "id": "U_QefAlOJ9JJ"
   },
   "source": [
    "# 2(b) Using  Scikit learn"
   ]
  },
  {
   "cell_type": "code",
   "execution_count": 0,
   "metadata": {
    "colab": {},
    "colab_type": "code",
    "id": "9Z2Tx3h2q_xb"
   },
   "outputs": [],
   "source": [
    "def train_multiclass_svm_sklearn(classes):\n",
    "  skl_model=[]\n",
    "  for i in trange(10):\n",
    "      for j in range(i+1, 10):\n",
    "          train_data = np.array([train[k,:] for k in range(train.shape[0]) if train[k,-1]== i or train[k,-1]==j ] )  \n",
    "          X = train_data[:, :-1]/255\n",
    "          m= X.shape[0]\n",
    "          Y = train_data[:,-1].reshape((m,1))\n",
    "          print(classes[i],classes[j])\n",
    "          svc = SVC(kernel='rbf', gamma=0.05, C=1, decision_function_shape='ovo')\n",
    "          svc.fit(X, np.ravel(Y ,order = 'C'))\n",
    "          skl_model.append(svc)\n",
    "  return skl_model"
   ]
  },
  {
   "cell_type": "code",
   "execution_count": 22,
   "metadata": {
    "colab": {
     "base_uri": "https://localhost:8080/",
     "height": 816
    },
    "colab_type": "code",
    "id": "B3XFlSfG7FKq",
    "outputId": "0fbad61a-ad08-4162-8e40-ea9cadac594f"
   },
   "outputs": [
    {
     "name": "stderr",
     "output_type": "stream",
     "text": [
      "\r",
      "  0%|          | 0/10 [00:00<?, ?it/s]"
     ]
    },
    {
     "name": "stdout",
     "output_type": "stream",
     "text": [
      "0 1\n",
      "0 2\n",
      "0 3\n",
      "0 4\n",
      "0 5\n",
      "0 6\n",
      "0 7\n",
      "0 8\n",
      "0 9\n"
     ]
    },
    {
     "name": "stderr",
     "output_type": "stream",
     "text": [
      "\r",
      " 10%|█         | 1/10 [01:07<10:10, 67.82s/it]"
     ]
    },
    {
     "name": "stdout",
     "output_type": "stream",
     "text": [
      "1 2\n",
      "1 3\n",
      "1 4\n",
      "1 5\n",
      "1 6\n",
      "1 7\n",
      "1 8\n",
      "1 9\n"
     ]
    },
    {
     "name": "stderr",
     "output_type": "stream",
     "text": [
      "\r",
      " 20%|██        | 2/10 [01:46<07:53, 59.17s/it]"
     ]
    },
    {
     "name": "stdout",
     "output_type": "stream",
     "text": [
      "2 3\n",
      "2 4\n",
      "2 5\n",
      "2 6\n",
      "2 7\n",
      "2 8\n",
      "2 9\n"
     ]
    },
    {
     "name": "stderr",
     "output_type": "stream",
     "text": [
      "\r",
      " 30%|███       | 3/10 [02:48<06:59, 59.89s/it]"
     ]
    },
    {
     "name": "stdout",
     "output_type": "stream",
     "text": [
      "3 4\n",
      "3 5\n",
      "3 6\n",
      "3 7\n",
      "3 8\n",
      "3 9\n"
     ]
    },
    {
     "name": "stderr",
     "output_type": "stream",
     "text": [
      "\r",
      " 40%|████      | 4/10 [03:27<05:21, 53.56s/it]"
     ]
    },
    {
     "name": "stdout",
     "output_type": "stream",
     "text": [
      "4 5\n",
      "4 6\n",
      "4 7\n",
      "4 8\n",
      "4 9\n"
     ]
    },
    {
     "name": "stderr",
     "output_type": "stream",
     "text": [
      "\r",
      " 50%|█████     | 5/10 [04:06<04:06, 49.30s/it]"
     ]
    },
    {
     "name": "stdout",
     "output_type": "stream",
     "text": [
      "5 6\n",
      "5 7\n",
      "5 8\n",
      "5 9\n"
     ]
    },
    {
     "name": "stderr",
     "output_type": "stream",
     "text": [
      "\r",
      " 60%|██████    | 6/10 [04:41<03:00, 45.03s/it]"
     ]
    },
    {
     "name": "stdout",
     "output_type": "stream",
     "text": [
      "6 7\n",
      "6 8\n",
      "6 9\n"
     ]
    },
    {
     "name": "stderr",
     "output_type": "stream",
     "text": [
      "\r",
      " 70%|███████   | 7/10 [05:02<01:53, 37.81s/it]"
     ]
    },
    {
     "name": "stdout",
     "output_type": "stream",
     "text": [
      "7 8\n",
      "7 9\n"
     ]
    },
    {
     "name": "stderr",
     "output_type": "stream",
     "text": [
      "\r",
      " 80%|████████  | 8/10 [05:17<01:01, 30.96s/it]"
     ]
    },
    {
     "name": "stdout",
     "output_type": "stream",
     "text": [
      "8 9\n"
     ]
    },
    {
     "name": "stderr",
     "output_type": "stream",
     "text": [
      "100%|██████████| 10/10 [05:25<00:00, 32.51s/it]\n"
     ]
    },
    {
     "name": "stdout",
     "output_type": "stream",
     "text": [
      "330.1524829864502\n"
     ]
    }
   ],
   "source": [
    "classes= list(range(10))\n",
    "s = time.time()\n",
    "skl_model = train_multiclass_svm_sklearn(classes)\n",
    "models_pickle_svc = open(\"models_pickle_svc\",'wb')\n",
    "pickle.dump(skl_model, models_pickle_svc)\n",
    "print(time.time()-s)"
   ]
  },
  {
   "cell_type": "code",
   "execution_count": 0,
   "metadata": {
    "colab": {},
    "colab_type": "code",
    "id": "3HIPdMPLTNHr"
   },
   "outputs": [],
   "source": [
    "file1= open(\"models_pickle_svc\",'rb')\n",
    "models_svc = pickle.load(file1)"
   ]
  },
  {
   "cell_type": "code",
   "execution_count": 0,
   "metadata": {
    "colab": {},
    "colab_type": "code",
    "id": "qLiWt3jcLxhP"
   },
   "outputs": [],
   "source": [
    "file= open(\"models_pickle_svc\",'rb')\n",
    "models = pickle.load(file)\n",
    "file.close()\n",
    "classes=[]\n",
    "count =0\n",
    "for i in range(10):\n",
    "    for j in range(i+1, 10):\n",
    "        classes.append((i,j))\n",
    "models = np.array(models)"
   ]
  },
  {
   "cell_type": "code",
   "execution_count": 0,
   "metadata": {
    "colab": {},
    "colab_type": "code",
    "id": "sy8uosdQrKKW"
   },
   "outputs": [],
   "source": [
    "def predict_gaussian_svm(X):\n",
    "  count=0;\n",
    "  class_pred=[]\n",
    "  Y_pred_class=[]\n",
    "  for i in range(X.shape[0]):\n",
    "    dict={}\n",
    "    for j in range(10):\n",
    "      dict[j]= [0,0] \n",
    "    class_pred.append(dict)\n",
    "  for i in range(45):\n",
    "      (p,q)=classes[i]\n",
    "      modeli=models[i]\n",
    "      Y_pred = modeli.predict(X)\n",
    "      Y_scores= modeli.decision_function(X)\n",
    "      for j in range(len(Y_pred)) :        \n",
    "            class_pred[j][Y_pred[j]][0]+=1\n",
    "            class_pred[j][Y_pred[j]][1]+=abs(Y_scores[j])\n",
    "  for i in range(X.shape[0]):\n",
    "    Y_pred_class.append(find_max_class(class_pred[i])) \n",
    "  return Y_pred_class"
   ]
  },
  {
   "cell_type": "code",
   "execution_count": 26,
   "metadata": {
    "colab": {
     "base_uri": "https://localhost:8080/",
     "height": 34
    },
    "colab_type": "code",
    "id": "uZQA89P5L9vN",
    "outputId": "ce836e7b-0c05-436b-d837-d2e887067926"
   },
   "outputs": [
    {
     "name": "stdout",
     "output_type": "stream",
     "text": [
      "Accuracy on validation set using sklearn binary classifier (87.88,)\n"
     ]
    }
   ],
   "source": [
    "pred_val_sk=predict_gaussian_svm(X_val)\n",
    "accuracy = find_accuracy(Y_val, pred_val_sk)\n",
    "print('Accuracy on validation set using sklearn binary classifier', accuracy)"
   ]
  },
  {
   "cell_type": "markdown",
   "metadata": {
    "colab_type": "text",
    "id": "p8ltyC_PIsgp"
   },
   "source": [
    "### accuracy on test set - 88.08"
   ]
  },
  {
   "cell_type": "code",
   "execution_count": 28,
   "metadata": {
    "colab": {
     "base_uri": "https://localhost:8080/",
     "height": 34
    },
    "colab_type": "code",
    "id": "LuCJtypsk4Wc",
    "outputId": "209d13bb-5a56-404f-ff88-73d073b82a5a"
   },
   "outputs": [
    {
     "name": "stdout",
     "output_type": "stream",
     "text": [
      "Accuracy on training set using sklearn binary classifier (88.08,)\n"
     ]
    }
   ],
   "source": [
    "pred_test_sk = predict_gaussian_svm(X_test)\n",
    "accuracy = find_accuracy(Y_test, pred_test_sk)\n",
    "print('Accuracy on training set using sklearn binary classifier', accuracy)"
   ]
  },
  {
   "cell_type": "markdown",
   "metadata": {
    "colab_type": "text",
    "id": "WgozY4gbJBKm"
   },
   "source": [
    "### accuracy on train test using sklearn -96.92888888888889"
   ]
  },
  {
   "cell_type": "markdown",
   "metadata": {
    "colab_type": "text",
    "id": "TvtXPh-rwvvl"
   },
   "source": [
    "## 2(c) Confusion Matrix"
   ]
  },
  {
   "cell_type": "code",
   "execution_count": 30,
   "metadata": {
    "colab": {
     "base_uri": "https://localhost:8080/",
     "height": 500
    },
    "colab_type": "code",
    "id": "W1PFnVqIwvTY",
    "outputId": "195b19a8-224b-4b03-f32d-ac4a095d198f"
   },
   "outputs": [
    {
     "name": "stdout",
     "output_type": "stream",
     "text": [
      "Confusion matrix on train set\n"
     ]
    },
    {
     "data": {
      "image/png": "[encoded data removed]",
      "text/plain": [
       "<Figure size 576x576 with 1 Axes>"
      ]
     },
     "metadata": {
      "tags": []
     },
     "output_type": "display_data"
    }
   ],
   "source": [
    "print('Confusion matrix on validation set')\n",
    "a= print_confusion_martix(Y_val.astype(int).ravel(), np.array(pred_val).astype(int))\n",
    "classes= list(range(10))\n",
    "x,b=plt.subplots(figsize=(8,8))\n",
    "plt.ylabel('Actual')\n",
    "plt.xlabel('Predicted')\n",
    "t=sns.heatmap(a,annot=True, fmt=\"d\",cbar=False,cmap=\"icefire_r\")\n",
    "plt.show()"
   ]
  },
  {
   "cell_type": "code",
   "execution_count": 31,
   "metadata": {
    "colab": {
     "base_uri": "https://localhost:8080/",
     "height": 500
    },
    "colab_type": "code",
    "id": "KRWpDwg8wvCA",
    "outputId": "f068ea44-f3fe-4ee0-d0a0-1d9892bbda27"
   },
   "outputs": [
    {
     "name": "stdout",
     "output_type": "stream",
     "text": [
      "Confusion matrix on test set\n"
     ]
    },
    {
     "data": {
      "image/png": "[encoded data removed]",
      "text/plain": [
       "<Figure size 576x576 with 1 Axes>"
      ]
     },
     "metadata": {
      "tags": []
     },
     "output_type": "display_data"
    }
   ],
   "source": [
    "print('Confusion matrix on test set using scikit learn ')\n",
    "a=print_confusion_martix(Y_test.astype(int).ravel(), np.array(pred_test).astype(int))\n",
    "plt.figure(figsize=(8,8))\n",
    "t=sns.heatmap(a,annot=True, fmt=\"d\",cbar=False,cmap=\"icefire_r\")"
   ]
  },
  {
   "cell_type": "code",
   "execution_count": 32,
   "metadata": {
    "colab": {
     "base_uri": "https://localhost:8080/",
     "height": 502
    },
    "colab_type": "code",
    "id": "k4GTdvxj6EXs",
    "outputId": "b422f52b-c603-4507-b175-868aaf1e8801"
   },
   "outputs": [
    {
     "name": "stdout",
     "output_type": "stream",
     "text": [
      "Confusion matrix on valiadtion set\n"
     ]
    },
    {
     "data": {
      "image/png": "[encoded data removed]",
      "text/plain": [
       "<Figure size 576x576 with 1 Axes>"
      ]
     },
     "metadata": {
      "tags": []
     },
     "output_type": "display_data"
    }
   ],
   "source": [
    "print('Confusion matrix on valiadtion set')\n",
    "a= print_confusion_martix(Y_val.astype(int).ravel(), np.array(pred_val_sk).astype(int))\n",
    "sns.set()\n",
    "plt.figure(figsize=(8,8))\n",
    "t=sns.heatmap(a,annot=True, fmt=\"d\",cbar=False,cmap=\"icefire_r\")"
   ]
  },
  {
   "cell_type": "code",
   "execution_count": 33,
   "metadata": {
    "colab": {
     "base_uri": "https://localhost:8080/",
     "height": 502
    },
    "colab_type": "code",
    "id": "yh-Jjqvm56I1",
    "outputId": "922b29f3-2341-4f32-a368-165676c36cb0"
   },
   "outputs": [
    {
     "name": "stdout",
     "output_type": "stream",
     "text": [
      "Confusion matrix on test set using Scikit Learn\n"
     ]
    },
    {
     "data": {
      "image/png": "[encoded data removed]",
      "text/plain": [
       "<Figure size 576x576 with 1 Axes>"
      ]
     },
     "metadata": {
      "tags": []
     },
     "output_type": "display_data"
    }
   ],
   "source": [
    "print('Confusion matrix on test set using Scikit Learn')\n",
    "a=print_confusion_martix(Y_test.astype(int).ravel(), np.array(pred_test_sk).astype(int))\n",
    "plt.figure(figsize=(8,8))\n",
    "t=sns.heatmap(a,annot=True, fmt=\"d\",cbar=False,cmap=\"icefire_r\")"
   ]
  },
  {
   "cell_type": "code",
   "execution_count": 34,
   "metadata": {
    "colab": {
     "base_uri": "https://localhost:8080/",
     "height": 51
    },
    "colab_type": "code",
    "id": "rlIBKvB49g3W",
    "outputId": "2c92dff8-c00b-4aa7-ed6d-8547d709e563"
   },
   "outputs": [
    {
     "name": "stdout",
     "output_type": "stream",
     "text": [
      "(22500, 784) (22500,)\n"
     ]
    },
    {
     "data": {
      "text/plain": [
       "5"
      ]
     },
     "execution_count": 34,
     "metadata": {
      "tags": []
     },
     "output_type": "execute_result"
    }
   ],
   "source": [
    "X = train[:,:-1]/255 \n",
    "Y = train[:, -1]\n",
    "print(X.shape, Y.shape)\n",
    "k=5\n",
    "models=[]\n",
    "C_values = [1e-5,1e-3,1, 5 ,10]\n",
    "skf = StratifiedKFold(n_splits=k)\n",
    "skf.get_n_splits(X, Y)"
   ]
  },
  {
   "cell_type": "code",
   "execution_count": 0,
   "metadata": {
    "colab": {},
    "colab_type": "code",
    "id": "0NEOe-8RE_ca"
   },
   "outputs": [],
   "source": [
    "def train_svc_multiclass(i):\n",
    "    count=0\n",
    "    avg_acc=0\n",
    "    for train_index, test_index in skf.split(X, Y):\n",
    "        count+=1\n",
    "        X_train, X_test = X[train_index], X[test_index]\n",
    "        Y_train, Y_test = Y[train_index], Y[test_index]  \n",
    "        svc = SVC(kernel='rbf', gamma=0.05, C=i, decision_function_shape='ovo')\n",
    "        svc.fit(X_train, Y_train.ravel())\n",
    "        print('done')\n",
    "        models.append([svc,i,count])\n",
    "        score= svc.score(X_test, Y_test)\n",
    "        avg_acc = avg_acc+ score\n",
    "        print(score, i,count)\n",
    "    return avg_acc/k"
   ]
  },
  {
   "cell_type": "code",
   "execution_count": 38,
   "metadata": {
    "colab": {
     "base_uri": "https://localhost:8080/",
     "height": 34
    },
    "colab_type": "code",
    "id": "DGIagVmYLkf7",
    "outputId": "795c4a29-a961-45d4-a86a-da422bd53543"
   },
   "outputs": [
    {
     "name": "stdout",
     "output_type": "stream",
     "text": [
      "5416.033528089523\n"
     ]
    }
   ],
   "source": [
    "s = time.time()\n",
    "accuracy_on_c=Parallel(n_jobs=8)(delayed(train_svc_multiclass)(i) for i in C_values )\n",
    "print(time.time()-s)"
   ]
  },
  {
   "cell_type": "code",
   "execution_count": 39,
   "metadata": {
    "colab": {
     "base_uri": "https://localhost:8080/",
     "height": 34
    },
    "colab_type": "code",
    "id": "QW7_4Fl0Paq7",
    "outputId": "174f65aa-964c-4008-d4ad-56650b919bf2"
   },
   "outputs": [
    {
     "name": "stdout",
     "output_type": "stream",
     "text": [
      "[0.5664444444444444, 0.5664444444444444, 0.8787111111111111, 0.8844, 0.8842666666666666]\n"
     ]
    }
   ],
   "source": [
    "print(accuracy_on_c)\n",
    "k_fold_acc = open('k_fold_acc','wb')\n",
    "pickle.dump(accuracy_on_c, k_fold_acc)"
   ]
  },
  {
   "cell_type": "code",
   "execution_count": 0,
   "metadata": {
    "colab": {},
    "colab_type": "code",
    "id": "-THpApEze-F2"
   },
   "outputs": [],
   "source": [
    "test_accuracy=[]\n",
    "C_values = [1e-5,1e-3,1, 5 ,10]\n",
    "for i in C_values:\n",
    "    svc = SVC(kernel='rbf', gamma=0.05, C=i, decision_function_shape='ovo')\n",
    "    svc.fit(X, Y.ravel())\n",
    "    test_accuracy.append(svc.score(X_test, Y_test))"
   ]
  },
  {
   "cell_type": "code",
   "execution_count": 45,
   "metadata": {
    "colab": {
     "base_uri": "https://localhost:8080/",
     "height": 34
    },
    "colab_type": "code",
    "id": "iJBmM-fRe58c",
    "outputId": "14a2175a-bf16-4abf-e1f8-fd3b4dbd4d87"
   },
   "outputs": [
    {
     "data": {
      "text/plain": [
       "[0.5736, 0.5736, 0.8808, 0.8828, 0.8824]"
      ]
     },
     "execution_count": 45,
     "metadata": {
      "tags": []
     },
     "output_type": "execute_result"
    }
   ],
   "source": [
    "test_accuracy"
   ]
  },
  {
   "cell_type": "code",
   "execution_count": 67,
   "metadata": {
    "colab": {
     "base_uri": "https://localhost:8080/",
     "height": 452
    },
    "colab_type": "code",
    "id": "6Gcnot5xNGa0",
    "outputId": "48c05b16-7ff7-4daf-b25e-ac705311692b"
   },
   "outputs": [
    {
     "data": {
      "image/png": "[encoded data removed]",
      "text/plain": [
       "<Figure size 792x504 with 1 Axes>"
      ]
     },
     "metadata": {
      "tags": []
     },
     "output_type": "display_data"
    }
   ],
   "source": [
    "train_acc=[0.5664444444444444, 0.5664444444444444, 0.8787111111111111, 0.8844, 0.8842666666666666]\n",
    "test_acc = [0.5736, 0.5736, 0.8808, 0.8828, 0.8824]\n",
    "train_accuracy = accuracy_on_c\n",
    "plt.figure(figsize=(11,7))\n",
    "plt.plot(np.log10(C_values), train_accuracy, color='b')\n",
    "plt.plot(np.log10(C_values), test_accuracy, color='r')\n",
    "plt.scatter(np.log10(C_values), train_accuracy, color='b')\n",
    "plt.scatter(np.log10(C_values), test_accuracy, color='r')\n",
    "plt.legend(['y = training set', 'y = test set', ], loc='upper left')\n",
    "plt.xlabel('C values in log')\n",
    "plt.ylabel('Accuracy')\n",
    "plt.ylim((0.4,1))\n",
    "plt.show()"
   ]
  },
  {
   "cell_type": "code",
   "execution_count": 69,
   "metadata": {
    "colab": {
     "base_uri": "https://localhost:8080/",
     "height": 444
    },
    "colab_type": "code",
    "id": "gWCdpY2xNMuo",
    "outputId": "b47750bc-4ac4-4898-8f2b-1216f4d0fe2b"
   },
   "outputs": [
    {
     "data": {
      "text/plain": [
       "Text(0, 0.5, 'Accuracy')"
      ]
     },
     "execution_count": 69,
     "metadata": {
      "tags": []
     },
     "output_type": "execute_result"
    },
    {
     "data": {
      "image/png": "[encoded data removed]",
      "text/plain": [
       "<Figure size 720x360 with 1 Axes>"
      ]
     },
     "metadata": {
      "tags": []
     },
     "output_type": "display_data"
    }
   ],
   "source": [
    "fig = plt.figure(figsize=(10,5))\n",
    "C_values = [1e-5,1e-3,1, 5 ,10]\n",
    "ax = fig.add_axes([0,0,1,1])\n",
    "ax.bar(np.log10(C_values) + 0.00, train_accuracy, color = 'b', width = 0.17)\n",
    "ax.bar(np.log10(C_values) + 0.17, test_accuracy, color = 'c', width = 0.17)\n",
    "ax.legend(['y = training set', 'y = test set', ], loc='upper left')\n",
    "plt.xlabel('C values in log')\n",
    "plt.ylabel('Accuracy')"
   ]
  },
  {
   "cell_type": "code",
   "execution_count": 0,
   "metadata": {
    "colab": {},
    "colab_type": "code",
    "id": "O4Xu-SjDPb_b"
   },
   "outputs": [],
   "source": []
  }
 ],
 "metadata": {
  "accelerator": "TPU",
  "colab": {
   "collapsed_sections": [],
   "machine_shape": "hm",
   "name": "multiclass_svm_current.ipynb",
   "provenance": []
  },
  "kernelspec": {
   "display_name": "Python 3",
   "language": "python",
   "name": "python3"
  },
  "language_info": {
   "codemirror_mode": {
    "name": "ipython",
    "version": 3
   },
   "file_extension": ".py",
   "mimetype": "text/x-python",
   "name": "python",
   "nbconvert_exporter": "python",
   "pygments_lexer": "ipython3",
   "version": "3.7.4"
  }
 },
 "nbformat": 4,
 "nbformat_minor": 1
}
