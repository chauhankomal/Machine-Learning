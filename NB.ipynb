{
 "cells": [
  {
   "cell_type": "code",
   "execution_count": null,
   "metadata": {},
   "outputs": [],
   "source": [
    "import csv\n",
    "import pandas as pd\n",
    "import time\n",
    "tweets=[]\n",
    "start= time.time()\n",
    "data= pd.read_csv('data/training.csv',names = ['Type' , 'id', 'date', 'query','user', 'tweet'], encoding='latin-1')\n",
    "print(data[:5])\n",
    "print('time',time.time()-start)\n",
    "print(data.shape)"
   ]
  },
  {
   "cell_type": "code",
   "execution_count": null,
   "metadata": {},
   "outputs": [],
   "source": [
    "\n",
    "new_df = data.drop(['id','date','query','user'], axis=1)\n",
    "tweets = new_df.set_index('Type')\n",
    "print(tweets[-10:])"
   ]
  },
  {
   "cell_type": "code",
   "execution_count": null,
   "metadata": {},
   "outputs": [],
   "source": [
    "tweets_neg=tweets.loc[[0]]\n",
    "tweets_pos=tweets.loc[[4]]\n",
    "# print(tweets_neg[-0:])\n",
    "# print(tweets_pos[0:10])\n",
    "print(tweets_pos[['tweet']])"
   ]
  },
  {
   "cell_type": "code",
   "execution_count": null,
   "metadata": {},
   "outputs": [],
   "source": [
    "dict_neg_words={}\n",
    "tweets_neg['words']= tweets_neg['tweet'].str.split()\n",
    "tweets_neg['word_count']= tweets_neg['words'].str.len()\n",
    "tweets_pos['words']= tweets_pos['tweet'].str.split()\n",
    "tweets_pos['word_count']= tweets_pos['words'].str.len()\n",
    "print(tweets_neg[:5])\n",
    "print(tweets_pos[:5])\n",
    "print('Done')"
   ]
  },
  {
   "cell_type": "code",
   "execution_count": null,
   "metadata": {},
   "outputs": [],
   "source": [
    "dict_neg_words={}\n",
    "for l_words in tweets_neg['words']:\n",
    "    for word in l_words:\n",
    "        word=word.lower()\n",
    "        if word in dict_neg_words:\n",
    "            dict_neg_words[word] +=1\n",
    "        else:\n",
    "            dict_neg_words[word] =1\n",
    "print(dict_neg_words)"
   ]
  },
  {
   "cell_type": "code",
   "execution_count": null,
   "metadata": {},
   "outputs": [],
   "source": [
    "phi_neg = tweets_neg.shape[0]/tweets.shape[0]\n",
    "phi_pos =tweets_pos.shape[0]/tweets.shape[0]"
   ]
  },
  {
   "cell_type": "code",
   "execution_count": null,
   "metadata": {},
   "outputs": [],
   "source": []
  }
 ],
 "metadata": {
  "kernelspec": {
   "display_name": "Python 3",
   "language": "python",
   "name": "python3"
  },
  "language_info": {
   "codemirror_mode": {
    "name": "ipython",
    "version": 3
   },
   "file_extension": ".py",
   "mimetype": "text/x-python",
   "name": "python",
   "nbconvert_exporter": "python",
   "pygments_lexer": "ipython3",
   "version": "3.7.4"
  }
 },
 "nbformat": 4,
 "nbformat_minor": 2
}
