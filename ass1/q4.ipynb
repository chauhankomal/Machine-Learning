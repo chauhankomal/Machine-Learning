{
 "cells": [
  {
   "cell_type": "code",
   "execution_count": 1,
   "metadata": {},
   "outputs": [
    {
     "name": "stdout",
     "output_type": "stream",
     "text": [
      "Warning: Cannot change to a different GUI toolkit: notebook. Using qt instead.\n"
     ]
    }
   ],
   "source": [
    "%matplotlib qt\n",
    "%matplotlib notebook\n",
    "import seaborn as sb\n",
    "import matplotlib.pyplot as plt\n",
    "import matplotlib.animation as animation\n",
    "import numpy as np\n",
    "import pandas as pd\n",
    "from mpl_toolkits.mplot3d import Axes3D\n",
    "import threading\n",
    "import time\n",
    "from matplotlib import cm\n",
    "\n",
    "\n",
    "with open('data/q4/q4x.dat') as fp: \n",
    "    x=[]\n",
    "    for line in fp:\n",
    "        line=line[:-1]\n",
    "        [x1,x2]=line.split('  ')\n",
    "        x.append(float(x1))\n",
    "        x.append(float(x2))\n",
    "        \n",
    "with open('data/q4/q4y.dat') as fp: \n",
    "    y=[]\n",
    "    for line in fp:\n",
    "        y.append((line[:-1]))\n",
    "\n",
    "        \n",
    "X = np.array(x).reshape(100,2)\n",
    "Y = np.array(y).reshape(100,1)\n",
    "\n",
    "def normalization(X):\n",
    "    X_mean = np.mean(X)\n",
    "    X_var= np.sum((X-X_mean)**2)/len(X)\n",
    "    X_std_dev= np.sqrt(X_var)\n",
    "    X_norm = (X- X_mean)/X_std_dev\n",
    "    return X_norm"
   ]
  },
  {
   "cell_type": "code",
   "execution_count": 2,
   "metadata": {},
   "outputs": [
    {
     "name": "stdout",
     "output_type": "stream",
     "text": [
      "[[-0.75529433]\n",
      " [ 0.68509431]]\n",
      "[[ 0.75529433]\n",
      " [-0.68509431]]\n",
      "[[ 0.42953048 -0.02247228]\n",
      " [-0.02247228  0.53064579]]\n"
     ]
    }
   ],
   "source": [
    "X0= X[:,0:1]\n",
    "X1=X[:,1:2]\n",
    "\n",
    "X0_norm = normalization(X0)\n",
    "X1_norm= normalization(X1)\n",
    "X_norm = np.append(X0_norm, X1_norm, axis = 1)\n",
    "X_alaska = np.array([[X_norm[i][0],X_norm[i][1]]  for i in range(len(X_norm)) if Y[i]==\"Alaska\"])\n",
    "X_canada = np.array([[X_norm[i][0],X_norm[i][1]]  for i in range(len(X_norm)) if Y[i]==\"Canada\"])\n",
    "mu0 = np.mean(X_alaska,axis=0)\n",
    "mu1 = np.mean(X_canada, axis=0)\n",
    "x0 = X_alaska-mu0\n",
    "x1= X_canada-mu1\n",
    "# print(X_norm[:10,:])\n",
    "cov = (np.dot(x0.T, x0) + np.dot(x1.T, x1))/100\n",
    "cov_inv= np.linalg.inv(cov)\n",
    "phi = len(X_alaska)/(len(X_alaska)+ len(X_canada))\n",
    "mu0= mu0.reshape(2,1)\n",
    "mu1= mu1.reshape(2,1)\n",
    "print(mu0)\n",
    "print(mu1)\n",
    "print(cov)\n",
    "# print(phi)"
   ]
  },
  {
   "cell_type": "code",
   "execution_count": 3,
   "metadata": {},
   "outputs": [],
   "source": [
    "# sb.set()\n",
    "# # sb.set_style(\"ticks\")\n",
    "# fig, ax = plt.subplots()\n",
    "# color=[\"red:alaska\", \"blue:canada\"]\n",
    "# label1= (\"alaska\", \"canada\")\n",
    "# ax.scatter(X_alaska[:,0],X_alaska[:,1], marker=\"^\", c=\"blue\", label=\"Alaska-0\")\n",
    "# ax.scatter(X_canada[:,0],X_canada[:,1], marker=\"*\",c=\"red\", label = \"Canada-1\")\n",
    "# ax.legend()\n",
    "# plt.xlabel('x0')\n",
    "# plt.ylabel('x1')\n",
    "# plt.title('x-y')\n",
    "\n"
   ]
  },
  {
   "cell_type": "code",
   "execution_count": 4,
   "metadata": {},
   "outputs": [
    {
     "name": "stdout",
     "output_type": "stream",
     "text": [
      "theta [[1.11022302e-15]] [[ 3.38925452]\n",
      " [-2.43858399]]\n"
     ]
    }
   ],
   "source": [
    "theta0 = np.log(phi/(1-phi))+ (mu0.T@cov_inv@mu0- mu1.T@cov_inv@mu1)/2 \n",
    "theta12 = cov_inv@(mu1-mu0)\n",
    "theta=np.append(theta0, theta12, axis=0)\n",
    "X_norm1 = np.append(np.ones((len(X_norm),1)), X_norm, axis=1  )\n",
    "Y_dash = -(np.dot(X_norm1[:,0:2],theta[0:2,:]))/theta[2][0]\n",
    "print('theta',theta0, theta12)\n",
    "sb.set()\n",
    "fig, ax = plt.subplots()\n",
    "color=[\"red:alaska\", \"blue:canada\"]\n",
    "label1= (\"alaska\", \"canada\")\n",
    "ax.scatter(X_alaska[:,0],X_alaska[:,1], marker=\"^\", c=\"blue\", label=\"Alaska-0\")\n",
    "ax.scatter(X_canada[:,0],X_canada[:,1], marker=\"*\",c=\"red\", label = \"Canada-1\")\n",
    "ax.legend()\n",
    "plt.xlabel('x0')\n",
    "plt.ylabel('x1')\n",
    "plt.plot(X_norm1[:,1:2],Y_dash,color='black')\n",
    "plt.show()\n"
   ]
  },
  {
   "cell_type": "code",
   "execution_count": 6,
   "metadata": {},
   "outputs": [
    {
     "name": "stdout",
     "output_type": "stream",
     "text": [
      "[[ 0.38158978 -0.15486516]\n",
      " [-0.15486516  0.64773717]]\n",
      "[[0.47747117 0.1099206 ]\n",
      " [0.1099206  0.41355441]]\n",
      "[-0.584786986772732, 0.3356738996816153, 1.286836336656886, -0.4329659903108941, 3.807853193540488, -2.8596730626868707]\n",
      "(50, 2)\n",
      "(100, 1)\n"
     ]
    }
   ],
   "source": [
    "cov0= ((X_alaska-mu0.T).T@(X_alaska-mu0.T))/50\n",
    "cov1= ((X_canada-mu1.T).T@(X_canada-mu1.T))/50\n",
    "print(cov0)\n",
    "print(cov1)\n",
    "cov0_inv = np.linalg.inv(cov0)\n",
    "cov1_inv = np.linalg.inv(cov1)\n",
    "cov0_det_sq= np.sqrt(np.linalg.det(cov0))\n",
    "cov1_det_sq= np.sqrt(np.linalg.det(cov1))\n",
    "# print(cov0_det_sq)\n",
    "diff_cov= (cov0_inv - cov1_inv)/2\n",
    "\n",
    "\n",
    "#[c+ x0^2, x0x1, x1^2, x0, x1]\n",
    "th0 = np.log(phi/(1-phi)) + np.log(cov0_det_sq/cov1_det_sq) + (mu0.T@cov0_inv@mu0- mu1.T@cov1_inv@mu1)/2\n",
    "th1 = diff_cov[0][0]\n",
    "th2 = diff_cov[0][1]+ diff_cov[1][0]\n",
    "th3 = diff_cov[1][1]\n",
    "th45 = cov1_inv@mu1 - cov0_inv@mu0\n",
    "th4 = th45[0][0]\n",
    "th5 = th45[1][0]\n",
    "# print(theta4)\n",
    "# print(theta5)\n",
    "thetas =[th0[0][0], th1, th2, th3, th4, th5]\n",
    "print(thetas)\n",
    "X01= np.append(np.ones((100,1)), X_norm[:,0:1]**2, axis=1)\n",
    "X02= np.append(X01,X_norm[:,0:1]*X_norm[:,1:2], axis=1)\n",
    "X03=np.append(X02, X_norm[:,1:2]**2, axis=1)\n",
    "X05=np.append(X03, X_norm, axis=1)\n",
    "Z= X05@thetas\n",
    "\n",
    "def sol_quad_eq(x0):   \n",
    "    a= th3\n",
    "    b= th2*x0+th5\n",
    "    c= th0+th1*x0*x0 + th4*x0\n",
    "    d = (b**2) - (4*a*c)\n",
    "    sol1 = (-b-np.sqrt(d))/(2*a)\n",
    "    sol2 = (-b+np.sqrt(d))/(2*a)\n",
    "    return(sol1)\n",
    "\n",
    "# def find_z(x0,x1):\n",
    "#     th0[0][0]+ th1*(x0*x0)+ th2*x0*x1 + th3*x1*x1 + th4 * x0+ th5*x1\n",
    "    \n",
    "# x0, x1 = np.meshgrid(X_norm[:,0:1], X_norm[:,1:2])\n",
    "# zs = np.array([find_z(i,j) for i,j in zip(np.ravel(x0), np.ravel(x1))])\n",
    "# Z_val = zs.reshape(x0.shape)\n",
    "\n",
    "\n",
    "\n",
    "\n",
    "sb.set()\n",
    "fig, ax = plt.subplots()\n",
    "color=[\"red:alaska\", \"blue:canada\"]\n",
    "label1= (\"alaska\", \"canada\")\n",
    "ax.scatter(X_alaska[:,0],X_alaska[:,1], marker=\"^\", c=\"blue\", label=\"Alaska-0\")\n",
    "ax.scatter(X_canada[:,0],X_canada[:,1], marker=\"*\",c=\"red\", label = \"Canada-1\")\n",
    "ax.legend()\n",
    "plt.xlabel('x0')\n",
    "plt.ylabel('x1')\n",
    "\n",
    "print(x1.shape)\n",
    "print(X_norm[:,0:1].shape)\n",
    "x_ran= np.linspace(-3,3, 100)\n",
    "x1=np.array([sol_quad_eq(i) for i in x_ran]).reshape(100,1)\n",
    "plt.plot(x_ran, x1)\n",
    "plt.show();\n",
    "\n",
    "# print(find_z(-0.38344523 ,-0.65509969))\n",
    "# print(thetas)\n",
    "# plt.show();\n",
    "\n",
    "# sol_quad_eq(2)"
   ]
  },
  {
   "cell_type": "code",
   "execution_count": null,
   "metadata": {},
   "outputs": [],
   "source": []
  },
  {
   "cell_type": "code",
   "execution_count": null,
   "metadata": {},
   "outputs": [],
   "source": []
  }
 ],
 "metadata": {
  "kernelspec": {
   "display_name": "Python 3",
   "language": "python",
   "name": "python3"
  },
  "language_info": {
   "codemirror_mode": {
    "name": "ipython",
    "version": 3
   },
   "file_extension": ".py",
   "mimetype": "text/x-python",
   "name": "python",
   "nbconvert_exporter": "python",
   "pygments_lexer": "ipython3",
   "version": "3.7.4"
  }
 },
 "nbformat": 4,
 "nbformat_minor": 2
}
