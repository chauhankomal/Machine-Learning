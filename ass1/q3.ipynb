{
 "cells": [
  {
   "cell_type": "code",
   "execution_count": 1,
   "metadata": {},
   "outputs": [
    {
     "name": "stdout",
     "output_type": "stream",
     "text": [
      "(100, 1)\n"
     ]
    }
   ],
   "source": [
    "import seaborn as sb\n",
    "import matplotlib.pyplot as plt\n",
    "import matplotlib.animation as animation\n",
    "import numpy as np\n",
    "import pandas as pd\n",
    "from mpl_toolkits.mplot3d import Axes3D\n",
    "import threading\n",
    "import time\n",
    "from matplotlib import cm\n",
    "\n",
    "with open('data/q3/logisticX.csv') as fp: \n",
    "    x=[]\n",
    "    for line in fp:\n",
    "        line=line[:-1]\n",
    "        [x1,x2]=line.split(',')\n",
    "#         print(x1,x2)\n",
    "        x.append(float(x1))\n",
    "        x.append(float(x2))\n",
    "# print(x)      \n",
    "# print(len(x))\n",
    "with open('data/q3/logisticY.csv') as fp: \n",
    "    y=[]\n",
    "    for line in fp:\n",
    "        y.append(float(line[:-1]))\n",
    "#print(Y)      \n",
    "# print(len(y))\n",
    "\n",
    "X = np.array(x).reshape(100,2)\n",
    "# print(X)\n",
    "Y = np.array(y).reshape(100,1)\n",
    "print(Y.shape)"
   ]
  },
  {
   "cell_type": "code",
   "execution_count": 2,
   "metadata": {},
   "outputs": [
    {
     "name": "stdout",
     "output_type": "stream",
     "text": [
      "(100, 3)\n"
     ]
    }
   ],
   "source": [
    "def normalization(X):\n",
    "    X_mean = np.mean(X)\n",
    "    X_var= np.sum((X-X_mean)**2)/len(X)\n",
    "    X_std_dev= np.sqrt(X_var)\n",
    "    X_norm = (X- X_mean)/X_std_dev\n",
    "    return X_norm\n",
    "\n",
    "X1= X[:,0:1]\n",
    "X2=X[:,1:2]\n",
    "\n",
    "X1_norm = normalization(X1)\n",
    "X2_norm= normalization(X2)\n",
    "# print(X1_norm.shape)\n",
    "X_norm = np.append(X1_norm, X2_norm, axis = 1)\n",
    "X_norm = np.append(np.ones((X1_norm.shape[0], 1)), X_norm,axis = 1)\n",
    "# print(X_norm[:,:10])\n",
    "print(X_norm.shape)"
   ]
  },
  {
   "cell_type": "code",
   "execution_count": 3,
   "metadata": {},
   "outputs": [
    {
     "name": "stdout",
     "output_type": "stream",
     "text": [
      "[[-2.50000000e+01  1.77635684e-15 -1.88737914e-15]\n",
      " [ 1.77635684e-15 -2.50000000e+01  1.23957811e+01]\n",
      " [-1.88737914e-15  1.23957811e+01 -2.50000000e+01]]\n",
      "[[-1.33223971e-16]\n",
      " [-8.97341408e-01]\n",
      " [ 9.20112283e-01]]\n",
      "gradient [[  0.        ]\n",
      " [ 33.83904568]\n",
      " [-34.12605478]]\n",
      "[[ 1.33223971e-16]\n",
      " [ 8.97341408e-01]\n",
      " [-9.20112283e-01]]\n",
      "[[-16.67015307   0.63692543  -0.68514297]\n",
      " [  0.63692543 -11.56496155   3.01113727]\n",
      " [ -0.68514297   3.01113727 -11.47318617]]\n",
      "[[-0.0916248 ]\n",
      " [-0.64924624]\n",
      " [ 0.65238769]]\n",
      "gradient [[ 0.6668992 ]\n",
      " [ 9.41457848]\n",
      " [-9.37715884]]\n",
      "[[ 0.0916248 ]\n",
      " [ 1.54658764]\n",
      " [-1.57249997]]\n",
      "[[-11.29505368   0.96940762  -0.85973513]\n",
      " [  0.96940762  -6.01483528   0.05014815]\n",
      " [ -0.85973513   0.05014815  -5.63497973]]\n",
      "[[-0.13762894]\n",
      " [-0.55734781]\n",
      " [ 0.61370041]]\n",
      "gradient [[ 0.48660921]\n",
      " [ 3.24971265]\n",
      " [-3.36781488]]\n",
      "[[ 0.22925374]\n",
      " [ 2.10393545]\n",
      " [-2.18620038]]\n",
      "[[-8.46760424  1.13703868 -0.86211377]\n",
      " [ 1.13703868 -3.86622949 -0.7118158 ]\n",
      " [-0.86211377 -0.7118158  -3.42761171]]\n",
      "[[-0.12252087]\n",
      " [-0.35954736]\n",
      " [ 0.40413597]]\n",
      "gradient [[ 0.28022779]\n",
      " [ 0.96311127]\n",
      " [-1.02366276]]\n",
      "[[ 0.35177461]\n",
      " [ 2.46348281]\n",
      " [-2.59033635]]\n",
      "[[-7.28660058  1.1948712  -0.8472037 ]\n",
      " [ 1.1948712  -3.10776118 -0.89744865]\n",
      " [-0.8472037  -0.89744865 -2.69843806]]\n",
      "[[-0.04566133]\n",
      " [-0.11591653]\n",
      " [ 0.12569211]]\n",
      "gradient [[ 0.0877237 ]\n",
      " [ 0.19287929]\n",
      " [-0.19645878]]\n",
      "[[ 0.39743593]\n",
      " [ 2.57939935]\n",
      " [-2.71602845]]\n",
      "[[-6.99158812  1.20588864 -0.8460042 ]\n",
      " [ 1.20588864 -2.92894387 -0.93296816]\n",
      " [-0.8460042  -0.93296816 -2.53831995]]\n",
      "[[-0.00379593]\n",
      " [-0.00909859]\n",
      " [ 0.00950915]]\n",
      "gradient [[ 0.00752294]\n",
      " [ 0.01320006]\n",
      " [-0.01243719]]\n",
      "[[ 0.40123187]\n",
      " [ 2.58849794]\n",
      " [-2.7255376 ]]\n",
      "[[-6.97036051  1.20668975 -0.84627142]\n",
      " [ 1.20668975 -2.91604819 -0.93537903]\n",
      " [-0.84627142 -0.93537903 -2.52729308]]\n",
      "[[-2.12920040e-05]\n",
      " [-4.97563957e-05]\n",
      " [ 5.08851500e-05]]\n",
      "gradient [[ 4.53097631e-05]\n",
      " [ 7.18023024e-05]\n",
      " [-6.40417839e-05]]\n",
      "[[ 0.40125316]\n",
      " [ 2.5885477 ]\n",
      " [-2.72558849]]\n"
     ]
    }
   ],
   "source": [
    "theta=np.zeros((3,1))\n",
    "# print(theta)\n",
    "def sigma(V):\n",
    "    return np.array([1/(1+np.exp(-i)) for i in V])\n",
    "\n",
    "# np.diag([1,2,3])\n",
    "# print(theta.transpose())\n",
    "# print(np.diag(theta[:,0]))\n",
    "\n",
    "# print(np.array([1,2,3]).reshape(3,1)*np.array([10,3,5]).reshape(3,1))\n",
    "\n",
    "def gradient(V):\n",
    "    t= Y-(sigma(V).reshape(V.shape[0],1))\n",
    "    return np.dot(X_norm.transpose(), t)\n",
    "\n",
    "def Hessian(Th):\n",
    "    temp=sigma(np.dot(X_norm,Th))\n",
    "    D= temp*(np.ones((temp.shape[0],1))-temp)\n",
    "    t=np.dot(X_norm.T,np.diag(-D[:,0]))\n",
    "    return (np.dot(t, X_norm))\n",
    "\n",
    "# print(Hessian(theta))\n",
    "    \n",
    "t= np.dot(X_norm,theta)\n",
    "\n",
    "for i in range(7):\n",
    "    G = gradient(np.dot(X_norm,theta))\n",
    "    H=Hessian(theta)\n",
    "    H_inv= np.linalg.inv(H)\n",
    "    theta= theta - np.dot(H_inv, G)\n",
    "    \n",
    "res = theta   \n",
    "# print(res.shape)  \n",
    "# print(res)\n",
    "# print(np.sum(np.dot(X_norm,theta)))\n",
    "# print('Done')    \n",
    "# print(t[:,0].shape)\n",
    "# print(sigma(t[:,0]).shape)\n",
    "\n",
    "# print(gradient(t[:,0]))\n",
    "# print(Hessian)  \n",
    "\n",
    "\n",
    "    \n",
    "    \n",
    "\n",
    "# print(len(X_norm))\n",
    "Y0 =np.array([[X_norm[i][1],X_norm[i][2]]  for i in range(len(X_norm)) if Y[i]==0])\n",
    "Y1 =np.array([[X_norm[i][1],X_norm[i][2]]  for i in range(len(X_norm)) if Y[i]==1])\n",
    "\n",
    "\n",
    "x10= Y0[:,0:1]\n",
    "x11=Y0[:,1:2]\n",
    "x00= Y1[:,0:1]\n",
    "x01=Y1[:,1:2]\n",
    "\n"
   ]
  },
  {
   "cell_type": "code",
   "execution_count": 4,
   "metadata": {},
   "outputs": [
    {
     "ename": "SyntaxError",
     "evalue": "invalid syntax (<ipython-input-4-fac420306383>, line 1)",
     "output_type": "error",
     "traceback": [
      "\u001b[0;36m  File \u001b[0;32m\"<ipython-input-4-fac420306383>\"\u001b[0;36m, line \u001b[0;32m1\u001b[0m\n\u001b[0;31m    [ 1.88737914e-15 -1.23957811e+01  2.50000000e+01]]\u001b[0m\n\u001b[0m                                                   ^\u001b[0m\n\u001b[0;31mSyntaxError\u001b[0m\u001b[0;31m:\u001b[0m invalid syntax\n"
     ]
    }
   ],
   "source": [
    " [ 1.88737914e-15 -1.23957811e+01  2.50000000e+01]]\n",
    "(3, 1)\n",
    "[[ 0.40125316]\n",
    " [ 2.5885477 ]\n",
    " [-2.72558849]]\n",
    "40.12531605455251"
   ]
  },
  {
   "cell_type": "code",
   "execution_count": 5,
   "metadata": {},
   "outputs": [
    {
     "name": "stdout",
     "output_type": "stream",
     "text": [
      "(100, 1)\n"
     ]
    },
    {
     "data": {
      "image/png": "[encoded data removed]",
      "text/plain": [
       "<Figure size 432x288 with 1 Axes>"
      ]
     },
     "metadata": {},
     "output_type": "display_data"
    }
   ],
   "source": [
    "sb.set()\n",
    "# sb.set_style(\"whitegrid\")\n",
    "sb.set_style(\"ticks\")\n",
    "fig, ax = plt.subplots()\n",
    "# ax.plot(a,Y,'b^')\n",
    "ax.scatter(x10,x11, marker=\"^\", color='green', label= \"1\")\n",
    "ax.scatter(x00,x01, marker=\"P\", color='red', label =\"0\")\n",
    "ax.legend()\n",
    "plt.xlabel('x-axis')\n",
    "plt.ylabel('y-axis')\n",
    "plt.title('x-y')\n",
    "Y_dash = -(np.dot(X_norm[:,0:2],res[0:2,:]))/res[2][0]\n",
    "print(Y_dash.shape)\n",
    "plt.plot(X_norm[:,1:2],Y_dash,color='black')\n",
    "plt.show()\n"
   ]
  },
  {
   "cell_type": "code",
   "execution_count": null,
   "metadata": {},
   "outputs": [],
   "source": []
  },
  {
   "cell_type": "code",
   "execution_count": null,
   "metadata": {},
   "outputs": [],
   "source": []
  },
  {
   "cell_type": "code",
   "execution_count": null,
   "metadata": {},
   "outputs": [],
   "source": []
  },
  {
   "cell_type": "code",
   "execution_count": null,
   "metadata": {},
   "outputs": [],
   "source": []
  },
  {
   "cell_type": "code",
   "execution_count": null,
   "metadata": {},
   "outputs": [],
   "source": []
  }
 ],
 "metadata": {
  "kernelspec": {
   "display_name": "Python 3",
   "language": "python",
   "name": "python3"
  },
  "language_info": {
   "codemirror_mode": {
    "name": "ipython",
    "version": 3
   },
   "file_extension": ".py",
   "mimetype": "text/x-python",
   "name": "python",
   "nbconvert_exporter": "python",
   "pygments_lexer": "ipython3",
   "version": "3.7.4"
  }
 },
 "nbformat": 4,
 "nbformat_minor": 2
}
